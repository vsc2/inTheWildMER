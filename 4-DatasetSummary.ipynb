{
 "cells": [
  {
   "cell_type": "markdown",
   "id": "96218406-673e-4057-91b4-054d8da8ba77",
   "metadata": {},
   "source": [
    "# Music Emotion Recognition Using \"in the Wild\" Data\n",
    "## - Datasets for Practical Work\n",
    "\n",
    "This is a simple explanation of the datasets that will probably be used for the Project. \n",
    "Just as a short introduction to the project, there are two main goals to this project:\n",
    " - Collect and unify a dataset using either already existing big datasets derived from web crawling, and self created datasets crawled from diverse music internet platforms. \n",
    " - Test several methods to create emotional labels for the whole dataset\n",
    " \n",
    "An important detail is that instead of focusing the labeling on a particular piece of music, the intention is that a **music listening event** is labeled, thus taking the listeners' and the tracks' content and context into consideration."
   ]
  },
  {
   "cell_type": "code",
   "execution_count": 227,
   "id": "e16f448d-3254-4130-a096-a0215b0de578",
   "metadata": {
    "tags": []
   },
   "outputs": [],
   "source": [
    "# just some imports and stuff\n",
    "import pandas as pd\n",
    "from tqdm import tqdm\n",
    "from glob import glob\n",
    "\n",
    "folder = \"resources/FINAL/\""
   ]
  },
  {
   "cell_type": "markdown",
   "id": "0f02776c-7a1f-415b-bd51-1b5679078f22",
   "metadata": {
    "tags": []
   },
   "source": [
    "## Datasets - Summary\n",
    "\n",
    "Below is a table summarizing the number of files from each source. Some of these are existing datasets by researchers, some have been crawled by me and \"Metadata\" is just a list of the tracks and artists that are the intersection of all the main datasets."
   ]
  },
  {
   "cell_type": "code",
   "execution_count": 234,
   "id": "d06b051b-2c4a-4380-becb-a478f9376ce1",
   "metadata": {
    "tags": []
   },
   "outputs": [
    {
     "data": {
      "text/html": [
       "<div>\n",
       "<style scoped>\n",
       "    .dataframe tbody tr th:only-of-type {\n",
       "        vertical-align: middle;\n",
       "    }\n",
       "\n",
       "    .dataframe tbody tr th {\n",
       "        vertical-align: top;\n",
       "    }\n",
       "\n",
       "    .dataframe thead th {\n",
       "        text-align: right;\n",
       "    }\n",
       "</style>\n",
       "<table border=\"1\" class=\"dataframe\">\n",
       "  <thead>\n",
       "    <tr style=\"text-align: right;\">\n",
       "      <th></th>\n",
       "      <th>number of files</th>\n",
       "    </tr>\n",
       "    <tr>\n",
       "      <th>Source</th>\n",
       "      <th></th>\n",
       "    </tr>\n",
       "  </thead>\n",
       "  <tbody>\n",
       "    <tr>\n",
       "      <th>AudioDB</th>\n",
       "      <td>1</td>\n",
       "    </tr>\n",
       "    <tr>\n",
       "      <th>LFM</th>\n",
       "      <td>6</td>\n",
       "    </tr>\n",
       "    <tr>\n",
       "      <th>LJ2M</th>\n",
       "      <td>3</td>\n",
       "    </tr>\n",
       "    <tr>\n",
       "      <th>Lyrics</th>\n",
       "      <td>1</td>\n",
       "    </tr>\n",
       "    <tr>\n",
       "      <th>MMTD</th>\n",
       "      <td>4</td>\n",
       "    </tr>\n",
       "    <tr>\n",
       "      <th>Metadata</th>\n",
       "      <td>1</td>\n",
       "    </tr>\n",
       "    <tr>\n",
       "      <th>MuMu</th>\n",
       "      <td>7</td>\n",
       "    </tr>\n",
       "    <tr>\n",
       "      <th>SMPD</th>\n",
       "      <td>2</td>\n",
       "    </tr>\n",
       "    <tr>\n",
       "      <th>Spotify</th>\n",
       "      <td>2</td>\n",
       "    </tr>\n",
       "    <tr>\n",
       "      <th>SpotifyPlaylists</th>\n",
       "      <td>5</td>\n",
       "    </tr>\n",
       "    <tr>\n",
       "      <th>Twitter</th>\n",
       "      <td>1</td>\n",
       "    </tr>\n",
       "  </tbody>\n",
       "</table>\n",
       "</div>"
      ],
      "text/plain": [
       "                  number of files\n",
       "Source                           \n",
       "AudioDB                         1\n",
       "LFM                             6\n",
       "LJ2M                            3\n",
       "Lyrics                          1\n",
       "MMTD                            4\n",
       "Metadata                        1\n",
       "MuMu                            7\n",
       "SMPD                            2\n",
       "Spotify                         2\n",
       "SpotifyPlaylists                5\n",
       "Twitter                         1"
      ]
     },
     "execution_count": 234,
     "metadata": {},
     "output_type": "execute_result"
    }
   ],
   "source": [
    "# getting the files\n",
    "files = glob(folder+\"*/*.csv\", recursive=True) \n",
    "files_df = pd.DataFrame(files)[0].str.split(\"/\", expand=True).drop([0, 1], axis=1).rename({2: \"Source\", 3: \"File\"}, axis=1)\n",
    "files_df = files_df.sort_values([\"File\"]).sort_values([\"Source\"]).reset_index(drop=True)\n",
    "\n",
    "# How many datasets in each folder / group / source\n",
    "files_df.groupby(\"Source\").count().rename({\"File\": \"number of files\"}, axis=1)"
   ]
  },
  {
   "cell_type": "markdown",
   "id": "64a95745-7b13-4c1c-ba7f-d95c77906418",
   "metadata": {},
   "source": [
    "In general, the following sections will present the following 4 pieces of information:\n",
    "- the file names\n",
    "- a short sample of the dataset\n",
    "- the column names\n",
    "- the shape of the dataset (number of samples x number of columns)"
   ]
  },
  {
   "cell_type": "markdown",
   "id": "b61ee472-18a3-4e44-b367-1a02f8c753dc",
   "metadata": {
    "jp-MarkdownHeadingCollapsed": true,
    "tags": []
   },
   "source": [
    "## 1. Metadata - Final Intersection\n",
    "\n",
    "The first dataset to be indroduced is the list of tracks-artist pairs that form the intersection of the main datasets in this collection. There are >8000 tracks in the list are were present in datasets such as the LFM subset, LJ2M and others. Based on this intersection, additional data was then crawled, which will be presented in further sections."
   ]
  },
  {
   "cell_type": "code",
   "execution_count": 236,
   "id": "5ceaab01-b096-43dd-a61c-274cb013d2e1",
   "metadata": {},
   "outputs": [
    {
     "data": {
      "text/plain": [
       "'resources/FINAL/Metadata/final_intersection.csv'"
      ]
     },
     "execution_count": 236,
     "metadata": {},
     "output_type": "execute_result"
    }
   ],
   "source": [
    "file = [file for file in files if \"Metadata\" in file][0]\n",
    "file"
   ]
  },
  {
   "cell_type": "code",
   "execution_count": 239,
   "id": "af53ae0e-463f-4d41-b81d-39db6e878e0c",
   "metadata": {},
   "outputs": [
    {
     "data": {
      "text/html": [
       "<div>\n",
       "<style scoped>\n",
       "    .dataframe tbody tr th:only-of-type {\n",
       "        vertical-align: middle;\n",
       "    }\n",
       "\n",
       "    .dataframe tbody tr th {\n",
       "        vertical-align: top;\n",
       "    }\n",
       "\n",
       "    .dataframe thead th {\n",
       "        text-align: right;\n",
       "    }\n",
       "</style>\n",
       "<table border=\"1\" class=\"dataframe\">\n",
       "  <thead>\n",
       "    <tr style=\"text-align: right;\">\n",
       "      <th></th>\n",
       "      <th>Artist</th>\n",
       "      <th>Track</th>\n",
       "    </tr>\n",
       "  </thead>\n",
       "  <tbody>\n",
       "    <tr>\n",
       "      <th>0</th>\n",
       "      <td>10 Years</td>\n",
       "      <td>Wasteland</td>\n",
       "    </tr>\n",
       "    <tr>\n",
       "      <th>1</th>\n",
       "      <td>10cc</td>\n",
       "      <td>Dreadlock Holiday</td>\n",
       "    </tr>\n",
       "    <tr>\n",
       "      <th>2</th>\n",
       "      <td>10cc</td>\n",
       "      <td>Rubber Bullets</td>\n",
       "    </tr>\n",
       "  </tbody>\n",
       "</table>\n",
       "</div>"
      ],
      "text/plain": [
       "     Artist              Track\n",
       "0  10 Years          Wasteland\n",
       "1      10cc  Dreadlock Holiday\n",
       "2      10cc     Rubber Bullets"
      ]
     },
     "execution_count": 239,
     "metadata": {},
     "output_type": "execute_result"
    }
   ],
   "source": [
    "df = pd.read_csv(file, index_col=0)\n",
    "df.head(3)"
   ]
  },
  {
   "cell_type": "code",
   "execution_count": 96,
   "id": "97198788-7ebd-4e80-b20c-7780a1315442",
   "metadata": {},
   "outputs": [
    {
     "data": {
      "text/plain": [
       "Index(['Artist', 'Track'], dtype='object')"
      ]
     },
     "execution_count": 96,
     "metadata": {},
     "output_type": "execute_result"
    }
   ],
   "source": [
    "df.columns"
   ]
  },
  {
   "cell_type": "code",
   "execution_count": 98,
   "id": "a052a0c7-79fc-460e-8330-f41b2823a063",
   "metadata": {},
   "outputs": [
    {
     "data": {
      "text/plain": [
       "(8770, 2)"
      ]
     },
     "execution_count": 98,
     "metadata": {},
     "output_type": "execute_result"
    }
   ],
   "source": [
    "df.shape"
   ]
  },
  {
   "cell_type": "markdown",
   "id": "19c06668-d8e5-4542-aba3-21b038655ac6",
   "metadata": {
    "jp-MarkdownHeadingCollapsed": true,
    "tags": []
   },
   "source": [
    "## 2. AudioDB\n",
    "\n",
    "This data was extracted using the AudioDB API. It contains some metadata information, such as ID's from other libraries, etc, but also some descriptive texts about the track and user rating statistics."
   ]
  },
  {
   "cell_type": "code",
   "execution_count": 222,
   "id": "96bd8e54-f672-4805-988d-fb2f92c053f4",
   "metadata": {},
   "outputs": [
    {
     "data": {
      "text/plain": [
       "'resources/FINAL/AudioDB/AudioDB_track_metadata.csv'"
      ]
     },
     "execution_count": 222,
     "metadata": {},
     "output_type": "execute_result"
    }
   ],
   "source": [
    "file = [file for file in files if \"AudioDB\" in file][0]\n",
    "file"
   ]
  },
  {
   "cell_type": "code",
   "execution_count": 223,
   "id": "9f3c7666-f90d-465a-8b0e-68199373f86f",
   "metadata": {},
   "outputs": [
    {
     "data": {
      "text/html": [
       "<div>\n",
       "<style scoped>\n",
       "    .dataframe tbody tr th:only-of-type {\n",
       "        vertical-align: middle;\n",
       "    }\n",
       "\n",
       "    .dataframe tbody tr th {\n",
       "        vertical-align: top;\n",
       "    }\n",
       "\n",
       "    .dataframe thead th {\n",
       "        text-align: right;\n",
       "    }\n",
       "</style>\n",
       "<table border=\"1\" class=\"dataframe\">\n",
       "  <thead>\n",
       "    <tr style=\"text-align: right;\">\n",
       "      <th></th>\n",
       "      <th>idTrack</th>\n",
       "      <th>idAlbum</th>\n",
       "      <th>idArtist</th>\n",
       "      <th>idLyric</th>\n",
       "      <th>idIMVDB</th>\n",
       "      <th>strTrack</th>\n",
       "      <th>strAlbum</th>\n",
       "      <th>strArtist</th>\n",
       "      <th>strArtistAlternate</th>\n",
       "      <th>intCD</th>\n",
       "      <th>...</th>\n",
       "      <th>intScoreVotes</th>\n",
       "      <th>intTotalListeners</th>\n",
       "      <th>intTotalPlays</th>\n",
       "      <th>strMusicBrainzID</th>\n",
       "      <th>strMusicBrainzAlbumID</th>\n",
       "      <th>strMusicBrainzArtistID</th>\n",
       "      <th>strLocked</th>\n",
       "      <th>Track</th>\n",
       "      <th>Artist</th>\n",
       "      <th>lfm_id</th>\n",
       "    </tr>\n",
       "  </thead>\n",
       "  <tbody>\n",
       "    <tr>\n",
       "      <th>0</th>\n",
       "      <td>32997498</td>\n",
       "      <td>2132356</td>\n",
       "      <td>114613</td>\n",
       "      <td>0.0</td>\n",
       "      <td>NaN</td>\n",
       "      <td>Wasteland</td>\n",
       "      <td>Killing All That Holds You</td>\n",
       "      <td>10 Years</td>\n",
       "      <td>NaN</td>\n",
       "      <td>NaN</td>\n",
       "      <td>...</td>\n",
       "      <td>4.0</td>\n",
       "      <td>250701.0</td>\n",
       "      <td>1534647.0</td>\n",
       "      <td>f9a525b3-51f2-4ffa-8689-1df8c82788b8</td>\n",
       "      <td>02835573-67b8-3268-a442-56afd9770453</td>\n",
       "      <td>b18bc9c4-6f22-4f1b-a918-e9c86a39fe7a</td>\n",
       "      <td>Unlocked</td>\n",
       "      <td>Wasteland</td>\n",
       "      <td>10 Years</td>\n",
       "      <td>44101852</td>\n",
       "    </tr>\n",
       "    <tr>\n",
       "      <th>1</th>\n",
       "      <td>32828322</td>\n",
       "      <td>2118689</td>\n",
       "      <td>112493</td>\n",
       "      <td>0.0</td>\n",
       "      <td>NaN</td>\n",
       "      <td>Dreadlock Holiday</td>\n",
       "      <td>Windows in the Jungle</td>\n",
       "      <td>10cc</td>\n",
       "      <td>NaN</td>\n",
       "      <td>NaN</td>\n",
       "      <td>...</td>\n",
       "      <td>2.0</td>\n",
       "      <td>283360.0</td>\n",
       "      <td>1165259.0</td>\n",
       "      <td>5d3affdf-1790-420f-8bad-d4308abf8137</td>\n",
       "      <td>4532b2fa-640e-4726-8a52-4d71bf26bd41</td>\n",
       "      <td>f37c537b-3557-4031-bfd6-ab63ced32854</td>\n",
       "      <td>Unlocked</td>\n",
       "      <td>Dreadlock Holiday</td>\n",
       "      <td>10cc</td>\n",
       "      <td>12754290</td>\n",
       "    </tr>\n",
       "    <tr>\n",
       "      <th>2</th>\n",
       "      <td>32828371</td>\n",
       "      <td>2118694</td>\n",
       "      <td>112493</td>\n",
       "      <td>0.0</td>\n",
       "      <td>NaN</td>\n",
       "      <td>Rubber Bullets</td>\n",
       "      <td>Two Classic Albums: 10cc / Sheet Music</td>\n",
       "      <td>10cc</td>\n",
       "      <td>NaN</td>\n",
       "      <td>NaN</td>\n",
       "      <td>...</td>\n",
       "      <td>NaN</td>\n",
       "      <td>51121.0</td>\n",
       "      <td>168300.0</td>\n",
       "      <td>2deac7a4-3e2d-4449-855e-5b81812c8f83</td>\n",
       "      <td>9a01e280-371e-3234-9a33-ce63074d2ffd</td>\n",
       "      <td>f37c537b-3557-4031-bfd6-ab63ced32854</td>\n",
       "      <td>Unlocked</td>\n",
       "      <td>Rubber Bullets</td>\n",
       "      <td>10cc</td>\n",
       "      <td>33773799</td>\n",
       "    </tr>\n",
       "  </tbody>\n",
       "</table>\n",
       "<p>3 rows × 57 columns</p>\n",
       "</div>"
      ],
      "text/plain": [
       "    idTrack  idAlbum  idArtist  idLyric  idIMVDB           strTrack  \\\n",
       "0  32997498  2132356    114613      0.0      NaN          Wasteland   \n",
       "1  32828322  2118689    112493      0.0      NaN  Dreadlock Holiday   \n",
       "2  32828371  2118694    112493      0.0      NaN     Rubber Bullets   \n",
       "\n",
       "                                 strAlbum strArtist strArtistAlternate  intCD  \\\n",
       "0              Killing All That Holds You  10 Years                NaN    NaN   \n",
       "1                   Windows in the Jungle      10cc                NaN    NaN   \n",
       "2  Two Classic Albums: 10cc / Sheet Music      10cc                NaN    NaN   \n",
       "\n",
       "   ...  intScoreVotes intTotalListeners intTotalPlays  \\\n",
       "0  ...            4.0          250701.0     1534647.0   \n",
       "1  ...            2.0          283360.0     1165259.0   \n",
       "2  ...            NaN           51121.0      168300.0   \n",
       "\n",
       "                       strMusicBrainzID                 strMusicBrainzAlbumID  \\\n",
       "0  f9a525b3-51f2-4ffa-8689-1df8c82788b8  02835573-67b8-3268-a442-56afd9770453   \n",
       "1  5d3affdf-1790-420f-8bad-d4308abf8137  4532b2fa-640e-4726-8a52-4d71bf26bd41   \n",
       "2  2deac7a4-3e2d-4449-855e-5b81812c8f83  9a01e280-371e-3234-9a33-ce63074d2ffd   \n",
       "\n",
       "                 strMusicBrainzArtistID strLocked              Track  \\\n",
       "0  b18bc9c4-6f22-4f1b-a918-e9c86a39fe7a  Unlocked          Wasteland   \n",
       "1  f37c537b-3557-4031-bfd6-ab63ced32854  Unlocked  Dreadlock Holiday   \n",
       "2  f37c537b-3557-4031-bfd6-ab63ced32854  Unlocked     Rubber Bullets   \n",
       "\n",
       "     Artist    lfm_id  \n",
       "0  10 Years  44101852  \n",
       "1      10cc  12754290  \n",
       "2      10cc  33773799  \n",
       "\n",
       "[3 rows x 57 columns]"
      ]
     },
     "execution_count": 223,
     "metadata": {},
     "output_type": "execute_result"
    }
   ],
   "source": [
    "df = pd.read_csv(file, index_col=0)\n",
    "df.head(3)"
   ]
  },
  {
   "cell_type": "code",
   "execution_count": 224,
   "id": "89405a50-b706-4f8a-90b0-d7d567b76fd2",
   "metadata": {},
   "outputs": [
    {
     "data": {
      "text/plain": [
       "Index(['idTrack', 'idAlbum', 'idArtist', 'idLyric', 'idIMVDB', 'strTrack',\n",
       "       'strAlbum', 'strArtist', 'strArtistAlternate', 'intCD', 'intDuration',\n",
       "       'strGenre', 'strMood', 'strStyle', 'strTheme', 'strDescriptionEN',\n",
       "       'strDescriptionDE', 'strDescriptionFR', 'strDescriptionCN',\n",
       "       'strDescriptionIT', 'strDescriptionJP', 'strDescriptionRU',\n",
       "       'strDescriptionES', 'strDescriptionPT', 'strDescriptionSE',\n",
       "       'strDescriptionNL', 'strDescriptionHU', 'strDescriptionNO',\n",
       "       'strDescriptionIL', 'strDescriptionPL', 'strTrackThumb',\n",
       "       'strTrack3DCase', 'strTrackLyrics', 'strMusicVid',\n",
       "       'strMusicVidDirector', 'strMusicVidCompany', 'strMusicVidScreen1',\n",
       "       'strMusicVidScreen2', 'strMusicVidScreen3', 'intMusicVidViews',\n",
       "       'intMusicVidLikes', 'intMusicVidDislikes', 'intMusicVidFavorites',\n",
       "       'intMusicVidComments', 'intTrackNumber', 'intLoved', 'intScore',\n",
       "       'intScoreVotes', 'intTotalListeners', 'intTotalPlays',\n",
       "       'strMusicBrainzID', 'strMusicBrainzAlbumID', 'strMusicBrainzArtistID',\n",
       "       'strLocked', 'Track', 'Artist', 'lfm_id'],\n",
       "      dtype='object')"
      ]
     },
     "execution_count": 224,
     "metadata": {},
     "output_type": "execute_result"
    }
   ],
   "source": [
    "df.columns"
   ]
  },
  {
   "cell_type": "code",
   "execution_count": 225,
   "id": "a0c984ec-60b3-46f3-a38d-4e44833dcf83",
   "metadata": {},
   "outputs": [
    {
     "data": {
      "text/plain": [
       "(8279, 57)"
      ]
     },
     "execution_count": 225,
     "metadata": {},
     "output_type": "execute_result"
    }
   ],
   "source": [
    "df.shape"
   ]
  },
  {
   "cell_type": "markdown",
   "id": "60fa8fc3-601a-475a-93a7-0a5c9ef43052",
   "metadata": {
    "tags": []
   },
   "source": [
    "## 3. LFM\n",
    "\n",
    "The [LFM](http://www.cp.jku.at/datasets/LFM-2b/) dataset, or more specifically, the RecSys'22 subset of the LFM-2b dataset contains information and metadata on the tracks, user listening events, user information and user created tags and genres. This data was retrieved from the Last.FM music platform."
   ]
  },
  {
   "cell_type": "code",
   "execution_count": null,
   "id": "b17a9ea5-9cda-4b2c-bd6e-230eb11a59f8",
   "metadata": {},
   "outputs": [
    {
     "data": {
      "text/plain": [
       "['resources/FINAL/LFM/lfm_song_id_spotify_uri.csv',\n",
       " 'resources/FINAL/LFM/lfm_users_listening_counts.csv',\n",
       " 'resources/FINAL/LFM/lfm_genres.csv',\n",
       " 'resources/FINAL/LFM/lfm_albumns.csv',\n",
       " 'resources/FINAL/LFM/lfm_listening_events.csv',\n",
       " 'resources/FINAL/LFM/lfm_tags.csv']"
      ]
     },
     "execution_count": 10,
     "metadata": {},
     "output_type": "execute_result"
    }
   ],
   "source": [
    "lfm_files = [file for file in files if \"LFM\" in file]\n",
    "lfm_files"
   ]
  },
  {
   "cell_type": "markdown",
   "id": "7b79d0cd-31e5-45a3-ad13-769de1776833",
   "metadata": {},
   "source": [
    "#### 3.1 LFM ID's and Track - Artist"
   ]
  },
  {
   "cell_type": "code",
   "execution_count": 11,
   "id": "b71d14c5-3db3-498f-82d7-a200286f3abc",
   "metadata": {},
   "outputs": [
    {
     "data": {
      "text/plain": [
       "'resources/FINAL/LFM/lfm_song_id_spotify_uri.csv'"
      ]
     },
     "execution_count": 11,
     "metadata": {},
     "output_type": "execute_result"
    }
   ],
   "source": [
    "lfm_files[0]"
   ]
  },
  {
   "cell_type": "code",
   "execution_count": 12,
   "id": "180321c5-4bc5-4fb8-8f05-f962562185ff",
   "metadata": {},
   "outputs": [
    {
     "data": {
      "text/html": [
       "<div>\n",
       "<style scoped>\n",
       "    .dataframe tbody tr th:only-of-type {\n",
       "        vertical-align: middle;\n",
       "    }\n",
       "\n",
       "    .dataframe tbody tr th {\n",
       "        vertical-align: top;\n",
       "    }\n",
       "\n",
       "    .dataframe thead th {\n",
       "        text-align: right;\n",
       "    }\n",
       "</style>\n",
       "<table border=\"1\" class=\"dataframe\">\n",
       "  <thead>\n",
       "    <tr style=\"text-align: right;\">\n",
       "      <th></th>\n",
       "      <th>Artist</th>\n",
       "      <th>Track</th>\n",
       "      <th>lfm_id</th>\n",
       "      <th>lfm_spotify_uri</th>\n",
       "    </tr>\n",
       "  </thead>\n",
       "  <tbody>\n",
       "    <tr>\n",
       "      <th>0</th>\n",
       "      <td>10 Years</td>\n",
       "      <td>Wasteland</td>\n",
       "      <td>44101852</td>\n",
       "      <td>3pO37BXsjMC2wApALxGbuB</td>\n",
       "    </tr>\n",
       "    <tr>\n",
       "      <th>1</th>\n",
       "      <td>10cc</td>\n",
       "      <td>Dreadlock Holiday</td>\n",
       "      <td>12754290</td>\n",
       "      <td>1LOZMYF5s8qhW7Rv4w2gun</td>\n",
       "    </tr>\n",
       "    <tr>\n",
       "      <th>2</th>\n",
       "      <td>10cc</td>\n",
       "      <td>Rubber Bullets</td>\n",
       "      <td>33773799</td>\n",
       "      <td>1QQgSUKCG8GakzMOwi4lFS</td>\n",
       "    </tr>\n",
       "  </tbody>\n",
       "</table>\n",
       "</div>"
      ],
      "text/plain": [
       "     Artist              Track    lfm_id         lfm_spotify_uri\n",
       "0  10 Years          Wasteland  44101852  3pO37BXsjMC2wApALxGbuB\n",
       "1      10cc  Dreadlock Holiday  12754290  1LOZMYF5s8qhW7Rv4w2gun\n",
       "2      10cc     Rubber Bullets  33773799  1QQgSUKCG8GakzMOwi4lFS"
      ]
     },
     "execution_count": 12,
     "metadata": {},
     "output_type": "execute_result"
    }
   ],
   "source": [
    "df = pd.read_csv(lfm_files[0])\n",
    "df.head(3)"
   ]
  },
  {
   "cell_type": "code",
   "execution_count": 13,
   "id": "6c73dbd1-2eea-4b29-b94b-ae03ae31bebd",
   "metadata": {},
   "outputs": [
    {
     "data": {
      "text/plain": [
       "Index(['Artist', 'Track', 'lfm_id', 'lfm_spotify_uri'], dtype='object')"
      ]
     },
     "execution_count": 13,
     "metadata": {},
     "output_type": "execute_result"
    }
   ],
   "source": [
    "df.columns"
   ]
  },
  {
   "cell_type": "code",
   "execution_count": 14,
   "id": "24736c00-46a0-4af2-b1a0-8a5c6ab19a2a",
   "metadata": {},
   "outputs": [
    {
     "data": {
      "text/plain": [
       "(8772, 4)"
      ]
     },
     "execution_count": 14,
     "metadata": {},
     "output_type": "execute_result"
    }
   ],
   "source": [
    "df.shape"
   ]
  },
  {
   "cell_type": "markdown",
   "id": "fff3e66f-723c-4b85-9eff-55c87f205781",
   "metadata": {},
   "source": [
    "#### 3.2 LFM - User listening counts"
   ]
  },
  {
   "cell_type": "code",
   "execution_count": 15,
   "id": "bcd705c1-0821-4657-ac47-7bfb709500fc",
   "metadata": {},
   "outputs": [
    {
     "data": {
      "text/plain": [
       "'resources/FINAL/LFM/lfm_users_listening_counts.csv'"
      ]
     },
     "execution_count": 15,
     "metadata": {},
     "output_type": "execute_result"
    }
   ],
   "source": [
    "lfm_files[1]"
   ]
  },
  {
   "cell_type": "code",
   "execution_count": 16,
   "id": "76435c18-f49c-4cb6-b893-13998ed30200",
   "metadata": {},
   "outputs": [
    {
     "data": {
      "text/html": [
       "<div>\n",
       "<style scoped>\n",
       "    .dataframe tbody tr th:only-of-type {\n",
       "        vertical-align: middle;\n",
       "    }\n",
       "\n",
       "    .dataframe tbody tr th {\n",
       "        vertical-align: top;\n",
       "    }\n",
       "\n",
       "    .dataframe thead th {\n",
       "        text-align: right;\n",
       "    }\n",
       "</style>\n",
       "<table border=\"1\" class=\"dataframe\">\n",
       "  <thead>\n",
       "    <tr style=\"text-align: right;\">\n",
       "      <th></th>\n",
       "      <th>user_id</th>\n",
       "      <th>in</th>\n",
       "      <th>out</th>\n",
       "    </tr>\n",
       "  </thead>\n",
       "  <tbody>\n",
       "    <tr>\n",
       "      <th>0</th>\n",
       "      <td>2</td>\n",
       "      <td>60.0</td>\n",
       "      <td>662.0</td>\n",
       "    </tr>\n",
       "    <tr>\n",
       "      <th>1</th>\n",
       "      <td>6</td>\n",
       "      <td>31.0</td>\n",
       "      <td>2725.0</td>\n",
       "    </tr>\n",
       "    <tr>\n",
       "      <th>2</th>\n",
       "      <td>14</td>\n",
       "      <td>614.0</td>\n",
       "      <td>17479.0</td>\n",
       "    </tr>\n",
       "  </tbody>\n",
       "</table>\n",
       "</div>"
      ],
      "text/plain": [
       "   user_id     in      out\n",
       "0        2   60.0    662.0\n",
       "1        6   31.0   2725.0\n",
       "2       14  614.0  17479.0"
      ]
     },
     "execution_count": 16,
     "metadata": {},
     "output_type": "execute_result"
    }
   ],
   "source": [
    "df = pd.read_csv(lfm_files[1])\n",
    "df.head(3)"
   ]
  },
  {
   "cell_type": "code",
   "execution_count": 17,
   "id": "be4cb82b-4691-4c02-899e-5bfe87593911",
   "metadata": {},
   "outputs": [
    {
     "data": {
      "text/plain": [
       "Index(['user_id', 'in', 'out'], dtype='object')"
      ]
     },
     "execution_count": 17,
     "metadata": {},
     "output_type": "execute_result"
    }
   ],
   "source": [
    "df.columns"
   ]
  },
  {
   "cell_type": "code",
   "execution_count": 18,
   "id": "bc2a0314-0032-4ab0-a047-8e951b1e18b3",
   "metadata": {},
   "outputs": [
    {
     "data": {
      "text/plain": [
       "(15258, 3)"
      ]
     },
     "execution_count": 18,
     "metadata": {},
     "output_type": "execute_result"
    }
   ],
   "source": [
    "df.shape"
   ]
  },
  {
   "cell_type": "markdown",
   "id": "e664ce5e-1f8c-43ec-9fd7-b4859ebeb1c3",
   "metadata": {},
   "source": [
    "#### 3.3 LFM ID's and Track - Artist"
   ]
  },
  {
   "cell_type": "code",
   "execution_count": 19,
   "id": "90a754ef-a42f-4e50-811d-604dae1af775",
   "metadata": {},
   "outputs": [
    {
     "data": {
      "text/plain": [
       "'resources/FINAL/LFM/lfm_genres.csv'"
      ]
     },
     "execution_count": 19,
     "metadata": {},
     "output_type": "execute_result"
    }
   ],
   "source": [
    "lfm_files[2]"
   ]
  },
  {
   "cell_type": "code",
   "execution_count": 20,
   "id": "5a99a014-9b8b-4711-b5fd-f767c9a33496",
   "metadata": {},
   "outputs": [
    {
     "data": {
      "text/html": [
       "<div>\n",
       "<style scoped>\n",
       "    .dataframe tbody tr th:only-of-type {\n",
       "        vertical-align: middle;\n",
       "    }\n",
       "\n",
       "    .dataframe tbody tr th {\n",
       "        vertical-align: top;\n",
       "    }\n",
       "\n",
       "    .dataframe thead th {\n",
       "        text-align: right;\n",
       "    }\n",
       "</style>\n",
       "<table border=\"1\" class=\"dataframe\">\n",
       "  <thead>\n",
       "    <tr style=\"text-align: right;\">\n",
       "      <th></th>\n",
       "      <th>Artist</th>\n",
       "      <th>Track</th>\n",
       "      <th>variable</th>\n",
       "      <th>value</th>\n",
       "    </tr>\n",
       "  </thead>\n",
       "  <tbody>\n",
       "    <tr>\n",
       "      <th>0</th>\n",
       "      <td>Nirvana</td>\n",
       "      <td>Smells Like Teen Spirit</td>\n",
       "      <td>grunge</td>\n",
       "      <td>100</td>\n",
       "    </tr>\n",
       "    <tr>\n",
       "      <th>1</th>\n",
       "      <td>Nirvana</td>\n",
       "      <td>Smells Like Teen Spirit</td>\n",
       "      <td>rock</td>\n",
       "      <td>69</td>\n",
       "    </tr>\n",
       "    <tr>\n",
       "      <th>2</th>\n",
       "      <td>Nirvana</td>\n",
       "      <td>Smells Like Teen Spirit</td>\n",
       "      <td>alternative rock</td>\n",
       "      <td>23</td>\n",
       "    </tr>\n",
       "  </tbody>\n",
       "</table>\n",
       "</div>"
      ],
      "text/plain": [
       "    Artist                    Track          variable  value\n",
       "0  Nirvana  Smells Like Teen Spirit            grunge    100\n",
       "1  Nirvana  Smells Like Teen Spirit              rock     69\n",
       "2  Nirvana  Smells Like Teen Spirit  alternative rock     23"
      ]
     },
     "execution_count": 20,
     "metadata": {},
     "output_type": "execute_result"
    }
   ],
   "source": [
    "df = pd.read_csv(lfm_files[2])\n",
    "df.head(3)"
   ]
  },
  {
   "cell_type": "code",
   "execution_count": 21,
   "id": "1d8bf978-506e-4469-a7cd-3ccbbac4fd1d",
   "metadata": {},
   "outputs": [
    {
     "data": {
      "text/plain": [
       "Index(['Artist', 'Track', 'variable', 'value'], dtype='object')"
      ]
     },
     "execution_count": 21,
     "metadata": {},
     "output_type": "execute_result"
    }
   ],
   "source": [
    "df.columns"
   ]
  },
  {
   "cell_type": "code",
   "execution_count": 22,
   "id": "f77c5314-0d23-453a-8719-e6f468b1925d",
   "metadata": {},
   "outputs": [
    {
     "data": {
      "text/plain": [
       "(89731, 4)"
      ]
     },
     "execution_count": 22,
     "metadata": {},
     "output_type": "execute_result"
    }
   ],
   "source": [
    "df.shape"
   ]
  },
  {
   "cell_type": "markdown",
   "id": "a512ecd8-6333-4dc6-bfa7-5b48f9fbcae3",
   "metadata": {},
   "source": [
    "#### 3.4 LFM Albums"
   ]
  },
  {
   "cell_type": "code",
   "execution_count": 23,
   "id": "07d0a8fc-e0d7-4463-95e7-4daa860b613f",
   "metadata": {},
   "outputs": [
    {
     "data": {
      "text/plain": [
       "'resources/FINAL/LFM/lfm_albumns.csv'"
      ]
     },
     "execution_count": 23,
     "metadata": {},
     "output_type": "execute_result"
    }
   ],
   "source": [
    "lfm_files[3]"
   ]
  },
  {
   "cell_type": "code",
   "execution_count": 24,
   "id": "7e6d26df-9f0d-4224-a4a2-2fc88592c74a",
   "metadata": {},
   "outputs": [
    {
     "data": {
      "text/html": [
       "<div>\n",
       "<style scoped>\n",
       "    .dataframe tbody tr th:only-of-type {\n",
       "        vertical-align: middle;\n",
       "    }\n",
       "\n",
       "    .dataframe tbody tr th {\n",
       "        vertical-align: top;\n",
       "    }\n",
       "\n",
       "    .dataframe thead th {\n",
       "        text-align: right;\n",
       "    }\n",
       "</style>\n",
       "<table border=\"1\" class=\"dataframe\">\n",
       "  <thead>\n",
       "    <tr style=\"text-align: right;\">\n",
       "      <th></th>\n",
       "      <th>lfm_album_id</th>\n",
       "      <th>artist</th>\n",
       "      <th>album</th>\n",
       "    </tr>\n",
       "  </thead>\n",
       "  <tbody>\n",
       "    <tr>\n",
       "      <th>0</th>\n",
       "      <td>16391976</td>\n",
       "      <td>Mtume</td>\n",
       "      <td>R&amp;B: From Doo-Wop To Hip-Hop</td>\n",
       "    </tr>\n",
       "    <tr>\n",
       "      <th>1</th>\n",
       "      <td>4180281</td>\n",
       "      <td>Sum 41</td>\n",
       "      <td>All Killer, No Filler</td>\n",
       "    </tr>\n",
       "    <tr>\n",
       "      <th>2</th>\n",
       "      <td>22269931</td>\n",
       "      <td>Weezer</td>\n",
       "      <td>Weezer (Green Album)</td>\n",
       "    </tr>\n",
       "  </tbody>\n",
       "</table>\n",
       "</div>"
      ],
      "text/plain": [
       "   lfm_album_id  artist                         album\n",
       "0      16391976   Mtume  R&B: From Doo-Wop To Hip-Hop\n",
       "1       4180281  Sum 41         All Killer, No Filler\n",
       "2      22269931  Weezer          Weezer (Green Album)"
      ]
     },
     "execution_count": 24,
     "metadata": {},
     "output_type": "execute_result"
    }
   ],
   "source": [
    "df = pd.read_csv(lfm_files[3])\n",
    "df.head(3)"
   ]
  },
  {
   "cell_type": "code",
   "execution_count": 25,
   "id": "9f303605-2dd2-4ceb-b567-18fe38ed077b",
   "metadata": {},
   "outputs": [
    {
     "data": {
      "text/plain": [
       "Index(['lfm_album_id', 'artist', 'album'], dtype='object')"
      ]
     },
     "execution_count": 25,
     "metadata": {},
     "output_type": "execute_result"
    }
   ],
   "source": [
    "df.columns"
   ]
  },
  {
   "cell_type": "code",
   "execution_count": 26,
   "id": "b1f9f233-5472-49a3-b93a-713e7cf6498b",
   "metadata": {},
   "outputs": [
    {
     "data": {
      "text/plain": [
       "(35260, 3)"
      ]
     },
     "execution_count": 26,
     "metadata": {},
     "output_type": "execute_result"
    }
   ],
   "source": [
    "df.shape"
   ]
  },
  {
   "cell_type": "markdown",
   "id": "7f40c4fb-f5e8-49e6-afc3-e3f224670f74",
   "metadata": {},
   "source": [
    "#### 3.5 LFM Listening Events"
   ]
  },
  {
   "cell_type": "code",
   "execution_count": 27,
   "id": "1d6a1552-2425-4918-9c13-6aac83e7be7b",
   "metadata": {},
   "outputs": [
    {
     "data": {
      "text/plain": [
       "'resources/FINAL/LFM/lfm_listening_events.csv'"
      ]
     },
     "execution_count": 27,
     "metadata": {},
     "output_type": "execute_result"
    }
   ],
   "source": [
    "lfm_files[4]"
   ]
  },
  {
   "cell_type": "code",
   "execution_count": 28,
   "id": "34eb00b2-d7e6-45eb-b18c-458d87e47460",
   "metadata": {},
   "outputs": [
    {
     "data": {
      "text/html": [
       "<div>\n",
       "<style scoped>\n",
       "    .dataframe tbody tr th:only-of-type {\n",
       "        vertical-align: middle;\n",
       "    }\n",
       "\n",
       "    .dataframe tbody tr th {\n",
       "        vertical-align: top;\n",
       "    }\n",
       "\n",
       "    .dataframe thead th {\n",
       "        text-align: right;\n",
       "    }\n",
       "</style>\n",
       "<table border=\"1\" class=\"dataframe\">\n",
       "  <thead>\n",
       "    <tr style=\"text-align: right;\">\n",
       "      <th></th>\n",
       "      <th>lfm_user_id</th>\n",
       "      <th>lfm_track_id</th>\n",
       "      <th>lfm_album_id</th>\n",
       "      <th>timestamp</th>\n",
       "    </tr>\n",
       "  </thead>\n",
       "  <tbody>\n",
       "    <tr>\n",
       "      <th>0</th>\n",
       "      <td>14807</td>\n",
       "      <td>21889387</td>\n",
       "      <td>16391976</td>\n",
       "      <td>2020-01-01 00:00:03</td>\n",
       "    </tr>\n",
       "    <tr>\n",
       "      <th>1</th>\n",
       "      <td>21778</td>\n",
       "      <td>14820813</td>\n",
       "      <td>4180281</td>\n",
       "      <td>2020-01-01 00:00:07</td>\n",
       "    </tr>\n",
       "    <tr>\n",
       "      <th>2</th>\n",
       "      <td>2007</td>\n",
       "      <td>17825087</td>\n",
       "      <td>22269931</td>\n",
       "      <td>2020-01-01 00:00:21</td>\n",
       "    </tr>\n",
       "  </tbody>\n",
       "</table>\n",
       "</div>"
      ],
      "text/plain": [
       "   lfm_user_id  lfm_track_id  lfm_album_id            timestamp\n",
       "0        14807      21889387      16391976  2020-01-01 00:00:03\n",
       "1        21778      14820813       4180281  2020-01-01 00:00:07\n",
       "2         2007      17825087      22269931  2020-01-01 00:00:21"
      ]
     },
     "execution_count": 28,
     "metadata": {},
     "output_type": "execute_result"
    }
   ],
   "source": [
    "df = pd.read_csv(lfm_files[4])\n",
    "df.head(3)"
   ]
  },
  {
   "cell_type": "code",
   "execution_count": 29,
   "id": "4afa3a5b-4265-4ae6-9714-dbfff4915d5b",
   "metadata": {},
   "outputs": [
    {
     "data": {
      "text/plain": [
       "Index(['lfm_user_id', 'lfm_track_id', 'lfm_album_id', 'timestamp'], dtype='object')"
      ]
     },
     "execution_count": 29,
     "metadata": {},
     "output_type": "execute_result"
    }
   ],
   "source": [
    "df.columns"
   ]
  },
  {
   "cell_type": "code",
   "execution_count": 30,
   "id": "63afb489-b82a-4b90-a4f2-32772e3488b5",
   "metadata": {},
   "outputs": [
    {
     "data": {
      "text/plain": [
       "(994660, 4)"
      ]
     },
     "execution_count": 30,
     "metadata": {},
     "output_type": "execute_result"
    }
   ],
   "source": [
    "df.shape"
   ]
  },
  {
   "cell_type": "markdown",
   "id": "4b4efd03-2ad4-463c-b792-3b0e820f315b",
   "metadata": {
    "tags": []
   },
   "source": [
    "#### 3.6 LFM Tags"
   ]
  },
  {
   "cell_type": "code",
   "execution_count": 31,
   "id": "6ea6a8ae-5a8f-422e-90c2-8719682ff548",
   "metadata": {},
   "outputs": [
    {
     "data": {
      "text/plain": [
       "'resources/FINAL/LFM/lfm_tags.csv'"
      ]
     },
     "execution_count": 31,
     "metadata": {},
     "output_type": "execute_result"
    }
   ],
   "source": [
    "lfm_files[5]"
   ]
  },
  {
   "cell_type": "code",
   "execution_count": 32,
   "id": "30115944-b619-4c1b-b40f-a2bc451fe392",
   "metadata": {},
   "outputs": [
    {
     "data": {
      "text/html": [
       "<div>\n",
       "<style scoped>\n",
       "    .dataframe tbody tr th:only-of-type {\n",
       "        vertical-align: middle;\n",
       "    }\n",
       "\n",
       "    .dataframe tbody tr th {\n",
       "        vertical-align: top;\n",
       "    }\n",
       "\n",
       "    .dataframe thead th {\n",
       "        text-align: right;\n",
       "    }\n",
       "</style>\n",
       "<table border=\"1\" class=\"dataframe\">\n",
       "  <thead>\n",
       "    <tr style=\"text-align: right;\">\n",
       "      <th></th>\n",
       "      <th>Artist</th>\n",
       "      <th>Track</th>\n",
       "      <th>tag</th>\n",
       "      <th>value</th>\n",
       "    </tr>\n",
       "  </thead>\n",
       "  <tbody>\n",
       "    <tr>\n",
       "      <th>0</th>\n",
       "      <td>Nirvana</td>\n",
       "      <td>Smells Like Teen Spirit</td>\n",
       "      <td>Grunge</td>\n",
       "      <td>100</td>\n",
       "    </tr>\n",
       "    <tr>\n",
       "      <th>1</th>\n",
       "      <td>Nirvana</td>\n",
       "      <td>Smells Like Teen Spirit</td>\n",
       "      <td>rock</td>\n",
       "      <td>69</td>\n",
       "    </tr>\n",
       "    <tr>\n",
       "      <th>2</th>\n",
       "      <td>Nirvana</td>\n",
       "      <td>Smells Like Teen Spirit</td>\n",
       "      <td>Nirvana</td>\n",
       "      <td>43</td>\n",
       "    </tr>\n",
       "  </tbody>\n",
       "</table>\n",
       "</div>"
      ],
      "text/plain": [
       "    Artist                    Track      tag  value\n",
       "0  Nirvana  Smells Like Teen Spirit   Grunge    100\n",
       "1  Nirvana  Smells Like Teen Spirit     rock     69\n",
       "2  Nirvana  Smells Like Teen Spirit  Nirvana     43"
      ]
     },
     "execution_count": 32,
     "metadata": {},
     "output_type": "execute_result"
    }
   ],
   "source": [
    "df = pd.read_csv(lfm_files[5])\n",
    "df.head(3)"
   ]
  },
  {
   "cell_type": "code",
   "execution_count": 33,
   "id": "137dcd31-c142-4f4d-91a7-88f55ec8a5ec",
   "metadata": {},
   "outputs": [
    {
     "data": {
      "text/plain": [
       "Index(['Artist', 'Track', 'tag', 'value'], dtype='object')"
      ]
     },
     "execution_count": 33,
     "metadata": {},
     "output_type": "execute_result"
    }
   ],
   "source": [
    "df.columns"
   ]
  },
  {
   "cell_type": "code",
   "execution_count": 34,
   "id": "d8906de1-4c32-4d76-9782-e6880c882a29",
   "metadata": {},
   "outputs": [
    {
     "data": {
      "text/plain": [
       "(637620, 4)"
      ]
     },
     "execution_count": 34,
     "metadata": {},
     "output_type": "execute_result"
    }
   ],
   "source": [
    "df.shape"
   ]
  },
  {
   "cell_type": "markdown",
   "id": "c3f636de-65bf-4630-8084-4540a0564d51",
   "metadata": {
    "jp-MarkdownHeadingCollapsed": true,
    "tags": []
   },
   "source": [
    "## 4. LJ2M\n",
    "\n",
    "The [LJ2M dataset](https://ieeexplore.ieee.org/document/6890172) (download not available anymore) is a collection of blog posts in the LiveJournal platform, where users create posts, label it with an emotional keyword and associate a song to it. Here is presented the list of triplets of text (in BoW format), emotion and track, as well as the user who created that post. In addition, there is a list of the emotional keywords as well as the BoW words used to better decipher the text."
   ]
  },
  {
   "cell_type": "code",
   "execution_count": 37,
   "id": "7fabf49d-a692-4436-9349-f714f9fbbf8f",
   "metadata": {},
   "outputs": [
    {
     "data": {
      "text/plain": [
       "['resources/FINAL/LJ2M/lj2m_emotions.csv',\n",
       " 'resources/FINAL/LJ2M/LJ2M_dictionary_for_BoW_nostemming.csv',\n",
       " 'resources/FINAL/LJ2M/lj2m_songs_user_words_emotions.csv']"
      ]
     },
     "execution_count": 37,
     "metadata": {},
     "output_type": "execute_result"
    }
   ],
   "source": [
    "lj2m_files = [file for file in files if \"LJ2M\" in file]\n",
    "lj2m_files"
   ]
  },
  {
   "cell_type": "markdown",
   "id": "26113079-aa12-49cb-9523-0151edd09f87",
   "metadata": {},
   "source": [
    "#### 4.1 LJ2M emotion list"
   ]
  },
  {
   "cell_type": "code",
   "execution_count": 38,
   "id": "ee893a4f-e190-4f7a-ae3b-700dc88b7688",
   "metadata": {},
   "outputs": [
    {
     "data": {
      "text/plain": [
       "'resources/FINAL/LJ2M/lj2m_emotions.csv'"
      ]
     },
     "execution_count": 38,
     "metadata": {},
     "output_type": "execute_result"
    }
   ],
   "source": [
    "lj2m_files[0]"
   ]
  },
  {
   "cell_type": "code",
   "execution_count": 39,
   "id": "0e9beed3-d92e-41e6-a4f4-d67bcae3f222",
   "metadata": {},
   "outputs": [
    {
     "data": {
      "text/html": [
       "<div>\n",
       "<style scoped>\n",
       "    .dataframe tbody tr th:only-of-type {\n",
       "        vertical-align: middle;\n",
       "    }\n",
       "\n",
       "    .dataframe tbody tr th {\n",
       "        vertical-align: top;\n",
       "    }\n",
       "\n",
       "    .dataframe thead th {\n",
       "        text-align: right;\n",
       "    }\n",
       "</style>\n",
       "<table border=\"1\" class=\"dataframe\">\n",
       "  <thead>\n",
       "    <tr style=\"text-align: right;\">\n",
       "      <th></th>\n",
       "      <th>Emotion</th>\n",
       "      <th>AllMusic</th>\n",
       "      <th>AllMusic_ANEW</th>\n",
       "      <th>LiveJournal</th>\n",
       "      <th>LiveJournal_ANEW</th>\n",
       "    </tr>\n",
       "  </thead>\n",
       "  <tbody>\n",
       "    <tr>\n",
       "      <th>0</th>\n",
       "      <td>acerbic</td>\n",
       "      <td>True</td>\n",
       "      <td>False</td>\n",
       "      <td>False</td>\n",
       "      <td>False</td>\n",
       "    </tr>\n",
       "    <tr>\n",
       "      <th>1</th>\n",
       "      <td>aggressive</td>\n",
       "      <td>True</td>\n",
       "      <td>True</td>\n",
       "      <td>False</td>\n",
       "      <td>False</td>\n",
       "    </tr>\n",
       "    <tr>\n",
       "      <th>2</th>\n",
       "      <td>ambitious</td>\n",
       "      <td>True</td>\n",
       "      <td>True</td>\n",
       "      <td>False</td>\n",
       "      <td>False</td>\n",
       "    </tr>\n",
       "  </tbody>\n",
       "</table>\n",
       "</div>"
      ],
      "text/plain": [
       "      Emotion  AllMusic  AllMusic_ANEW  LiveJournal  LiveJournal_ANEW\n",
       "0     acerbic      True          False        False             False\n",
       "1  aggressive      True           True        False             False\n",
       "2   ambitious      True           True        False             False"
      ]
     },
     "execution_count": 39,
     "metadata": {},
     "output_type": "execute_result"
    }
   ],
   "source": [
    "df = pd.read_csv(lj2m_files[0])\n",
    "df.head(3)"
   ]
  },
  {
   "cell_type": "code",
   "execution_count": 40,
   "id": "f0c67185-06bb-4cbc-9f00-8f2334026305",
   "metadata": {},
   "outputs": [
    {
     "data": {
      "text/plain": [
       "Index(['Emotion', 'AllMusic', 'AllMusic_ANEW', 'LiveJournal',\n",
       "       'LiveJournal_ANEW'],\n",
       "      dtype='object')"
      ]
     },
     "execution_count": 40,
     "metadata": {},
     "output_type": "execute_result"
    }
   ],
   "source": [
    "df.columns"
   ]
  },
  {
   "cell_type": "code",
   "execution_count": 41,
   "id": "017a1c5b-943c-4abc-9f23-e181f87fe6ce",
   "metadata": {},
   "outputs": [
    {
     "data": {
      "text/plain": [
       "(301, 5)"
      ]
     },
     "execution_count": 41,
     "metadata": {},
     "output_type": "execute_result"
    }
   ],
   "source": [
    "df.shape"
   ]
  },
  {
   "cell_type": "markdown",
   "id": "9e7bbbd4-2e91-474e-b5cb-cc185f06219d",
   "metadata": {},
   "source": [
    "#### 4.2 LJ2M BoW Words"
   ]
  },
  {
   "cell_type": "code",
   "execution_count": 45,
   "id": "a5638f7f-8c3d-4437-ab3d-d74109e3dd8f",
   "metadata": {},
   "outputs": [
    {
     "data": {
      "text/plain": [
       "'resources/FINAL/LJ2M/LJ2M_dictionary_for_BoW_nostemming.csv'"
      ]
     },
     "execution_count": 45,
     "metadata": {},
     "output_type": "execute_result"
    }
   ],
   "source": [
    "lj2m_files[1]"
   ]
  },
  {
   "cell_type": "code",
   "execution_count": 42,
   "id": "1d612f77-029d-4de3-8319-f2516e69111b",
   "metadata": {},
   "outputs": [
    {
     "data": {
      "text/html": [
       "<div>\n",
       "<style scoped>\n",
       "    .dataframe tbody tr th:only-of-type {\n",
       "        vertical-align: middle;\n",
       "    }\n",
       "\n",
       "    .dataframe tbody tr th {\n",
       "        vertical-align: top;\n",
       "    }\n",
       "\n",
       "    .dataframe thead th {\n",
       "        text-align: right;\n",
       "    }\n",
       "</style>\n",
       "<table border=\"1\" class=\"dataframe\">\n",
       "  <thead>\n",
       "    <tr style=\"text-align: right;\">\n",
       "      <th></th>\n",
       "      <th>i</th>\n",
       "    </tr>\n",
       "  </thead>\n",
       "  <tbody>\n",
       "    <tr>\n",
       "      <th>0</th>\n",
       "      <td>to</td>\n",
       "    </tr>\n",
       "    <tr>\n",
       "      <th>1</th>\n",
       "      <td>and</td>\n",
       "    </tr>\n",
       "    <tr>\n",
       "      <th>2</th>\n",
       "      <td>the</td>\n",
       "    </tr>\n",
       "  </tbody>\n",
       "</table>\n",
       "</div>"
      ],
      "text/plain": [
       "     i\n",
       "0   to\n",
       "1  and\n",
       "2  the"
      ]
     },
     "execution_count": 42,
     "metadata": {},
     "output_type": "execute_result"
    }
   ],
   "source": [
    "df = pd.read_csv(lj2m_files[1])\n",
    "df.head(3)"
   ]
  },
  {
   "cell_type": "code",
   "execution_count": 43,
   "id": "93448ba3-912c-43ae-bc63-dc8a803ff1ac",
   "metadata": {},
   "outputs": [
    {
     "data": {
      "text/plain": [
       "Index(['i'], dtype='object')"
      ]
     },
     "execution_count": 43,
     "metadata": {},
     "output_type": "execute_result"
    }
   ],
   "source": [
    "df.columns"
   ]
  },
  {
   "cell_type": "code",
   "execution_count": 44,
   "id": "55299a99-0979-4223-b388-90028b408f3d",
   "metadata": {},
   "outputs": [
    {
     "data": {
      "text/plain": [
       "(46959, 1)"
      ]
     },
     "execution_count": 44,
     "metadata": {},
     "output_type": "execute_result"
    }
   ],
   "source": [
    "df.shape"
   ]
  },
  {
   "cell_type": "markdown",
   "id": "8300b99c-6dbd-4873-9094-acf1c4f8ff28",
   "metadata": {},
   "source": [
    "#### 4.3 LJ2M Songs - Users - Emotional Label - Text(BoW)"
   ]
  },
  {
   "cell_type": "code",
   "execution_count": 47,
   "id": "b7772be3-9bea-4d68-abb9-7ac723142cac",
   "metadata": {},
   "outputs": [
    {
     "data": {
      "text/plain": [
       "'resources/FINAL/LJ2M/lj2m_songs_user_words_emotions.csv'"
      ]
     },
     "execution_count": 47,
     "metadata": {},
     "output_type": "execute_result"
    }
   ],
   "source": [
    "lj2m_files[2]"
   ]
  },
  {
   "cell_type": "code",
   "execution_count": 48,
   "id": "45a87818-7319-438e-bc45-5ca6915b05ca",
   "metadata": {},
   "outputs": [
    {
     "data": {
      "text/html": [
       "<div>\n",
       "<style scoped>\n",
       "    .dataframe tbody tr th:only-of-type {\n",
       "        vertical-align: middle;\n",
       "    }\n",
       "\n",
       "    .dataframe tbody tr th {\n",
       "        vertical-align: top;\n",
       "    }\n",
       "\n",
       "    .dataframe thead th {\n",
       "        text-align: right;\n",
       "    }\n",
       "</style>\n",
       "<table border=\"1\" class=\"dataframe\">\n",
       "  <thead>\n",
       "    <tr style=\"text-align: right;\">\n",
       "      <th></th>\n",
       "      <th>emotion_id</th>\n",
       "      <th>word_counts</th>\n",
       "      <th>user ID</th>\n",
       "      <th>artist</th>\n",
       "      <th>song title</th>\n",
       "    </tr>\n",
       "  </thead>\n",
       "  <tbody>\n",
       "    <tr>\n",
       "      <th>0</th>\n",
       "      <td>accomplished_3</td>\n",
       "      <td>0:7 1:1 2:7 4:7 5:4 6:1 7:2 8:2 10:1 11:3 12:2...</td>\n",
       "      <td>u480993</td>\n",
       "      <td>David Bisbal</td>\n",
       "      <td>Buleria</td>\n",
       "    </tr>\n",
       "    <tr>\n",
       "      <th>1</th>\n",
       "      <td>accomplished_7</td>\n",
       "      <td>0:6 1:1 2:1 5:3 6:2 7:2 8:3 12:1 13:1 15:2 17:...</td>\n",
       "      <td>u574291</td>\n",
       "      <td>Yellowcard</td>\n",
       "      <td>Only One</td>\n",
       "    </tr>\n",
       "    <tr>\n",
       "      <th>2</th>\n",
       "      <td>accomplished_8</td>\n",
       "      <td>0:3 1:5 2:4 3:7 4:3 5:1 6:4 7:2 9:1 10:2 12:1 ...</td>\n",
       "      <td>u402088</td>\n",
       "      <td>Yellowcard</td>\n",
       "      <td>Ocean Avenue</td>\n",
       "    </tr>\n",
       "  </tbody>\n",
       "</table>\n",
       "</div>"
      ],
      "text/plain": [
       "       emotion_id                                        word_counts  user ID  \\\n",
       "0  accomplished_3  0:7 1:1 2:7 4:7 5:4 6:1 7:2 8:2 10:1 11:3 12:2...  u480993   \n",
       "1  accomplished_7  0:6 1:1 2:1 5:3 6:2 7:2 8:3 12:1 13:1 15:2 17:...  u574291   \n",
       "2  accomplished_8  0:3 1:5 2:4 3:7 4:3 5:1 6:4 7:2 9:1 10:2 12:1 ...  u402088   \n",
       "\n",
       "         artist    song title  \n",
       "0  David Bisbal       Buleria  \n",
       "1    Yellowcard      Only One  \n",
       "2    Yellowcard  Ocean Avenue  "
      ]
     },
     "execution_count": 48,
     "metadata": {},
     "output_type": "execute_result"
    }
   ],
   "source": [
    "df = pd.read_csv(lj2m_files[2])\n",
    "df.head(3)"
   ]
  },
  {
   "cell_type": "code",
   "execution_count": 49,
   "id": "a2ead19d-bbf8-4b63-83a4-89432e9278da",
   "metadata": {},
   "outputs": [
    {
     "data": {
      "text/plain": [
       "Index(['emotion_id', 'word_counts', 'user ID', 'artist', 'song title'], dtype='object')"
      ]
     },
     "execution_count": 49,
     "metadata": {},
     "output_type": "execute_result"
    }
   ],
   "source": [
    "df.columns"
   ]
  },
  {
   "cell_type": "code",
   "execution_count": 50,
   "id": "79937391-0a6f-4ad1-8086-851fb4e90dc2",
   "metadata": {},
   "outputs": [
    {
     "data": {
      "text/plain": [
       "(741204, 5)"
      ]
     },
     "execution_count": 50,
     "metadata": {},
     "output_type": "execute_result"
    }
   ],
   "source": [
    "df.shape"
   ]
  },
  {
   "cell_type": "markdown",
   "id": "84387edf-981e-4257-b49f-e7f99212787f",
   "metadata": {
    "jp-MarkdownHeadingCollapsed": true,
    "tags": []
   },
   "source": [
    "## 5. Lyrics\n",
    "This list of Lyrics was created using the Genius API."
   ]
  },
  {
   "cell_type": "code",
   "execution_count": 57,
   "id": "912b461d-cbf7-4559-8c8b-01d9a994c264",
   "metadata": {},
   "outputs": [
    {
     "data": {
      "text/plain": [
       "'resources/FINAL/Lyrics/CrawledLyrics.csv'"
      ]
     },
     "execution_count": 57,
     "metadata": {},
     "output_type": "execute_result"
    }
   ],
   "source": [
    "lyrics_file = [file for file in files if \"Lyrics\" in file][0]\n",
    "lyrics_file"
   ]
  },
  {
   "cell_type": "code",
   "execution_count": 58,
   "id": "3c34c064-f939-4723-88ec-be83eac1dab0",
   "metadata": {},
   "outputs": [
    {
     "data": {
      "text/html": [
       "<div>\n",
       "<style scoped>\n",
       "    .dataframe tbody tr th:only-of-type {\n",
       "        vertical-align: middle;\n",
       "    }\n",
       "\n",
       "    .dataframe tbody tr th {\n",
       "        vertical-align: top;\n",
       "    }\n",
       "\n",
       "    .dataframe thead th {\n",
       "        text-align: right;\n",
       "    }\n",
       "</style>\n",
       "<table border=\"1\" class=\"dataframe\">\n",
       "  <thead>\n",
       "    <tr style=\"text-align: right;\">\n",
       "      <th></th>\n",
       "      <th>Artist</th>\n",
       "      <th>Track</th>\n",
       "      <th>Lyrics</th>\n",
       "    </tr>\n",
       "  </thead>\n",
       "  <tbody>\n",
       "    <tr>\n",
       "      <th>0</th>\n",
       "      <td>10 Years</td>\n",
       "      <td>Wasteland</td>\n",
       "      <td>Wasteland Lyrics[Intro]\\nChange my attempt, go...</td>\n",
       "    </tr>\n",
       "    <tr>\n",
       "      <th>1</th>\n",
       "      <td>10cc</td>\n",
       "      <td>Dreadlock Holiday</td>\n",
       "      <td>NaN</td>\n",
       "    </tr>\n",
       "    <tr>\n",
       "      <th>2</th>\n",
       "      <td>10cc</td>\n",
       "      <td>Rubber Bullets</td>\n",
       "      <td>Rubber Bullets Lyrics[Verse 1: Lol Creme]\\nI w...</td>\n",
       "    </tr>\n",
       "  </tbody>\n",
       "</table>\n",
       "</div>"
      ],
      "text/plain": [
       "     Artist              Track  \\\n",
       "0  10 Years          Wasteland   \n",
       "1      10cc  Dreadlock Holiday   \n",
       "2      10cc     Rubber Bullets   \n",
       "\n",
       "                                              Lyrics  \n",
       "0  Wasteland Lyrics[Intro]\\nChange my attempt, go...  \n",
       "1                                                NaN  \n",
       "2  Rubber Bullets Lyrics[Verse 1: Lol Creme]\\nI w...  "
      ]
     },
     "execution_count": 58,
     "metadata": {},
     "output_type": "execute_result"
    }
   ],
   "source": [
    "df = pd.read_csv(lyrics_file)\n",
    "df.head(3)"
   ]
  },
  {
   "cell_type": "code",
   "execution_count": 59,
   "id": "ee0251d9-f970-4263-93a1-8a9f40a7ffda",
   "metadata": {},
   "outputs": [
    {
     "data": {
      "text/plain": [
       "Index(['Artist', 'Track', 'Lyrics'], dtype='object')"
      ]
     },
     "execution_count": 59,
     "metadata": {},
     "output_type": "execute_result"
    }
   ],
   "source": [
    "df.columns"
   ]
  },
  {
   "cell_type": "code",
   "execution_count": 60,
   "id": "7b4546c5-6b76-42c3-8743-c2f0498e365b",
   "metadata": {},
   "outputs": [
    {
     "data": {
      "text/plain": [
       "(8770, 3)"
      ]
     },
     "execution_count": 60,
     "metadata": {},
     "output_type": "execute_result"
    }
   ],
   "source": [
    "df.shape"
   ]
  },
  {
   "cell_type": "markdown",
   "id": "8f96104e-0baf-4f74-83ec-7d38e73e6bad",
   "metadata": {
    "jp-MarkdownHeadingCollapsed": true,
    "tags": []
   },
   "source": [
    "## 6. MMTD - Million Music Tweed Dataset (#NowPlayling)\n",
    "\n",
    "The [Million Music Tweet Dataset (MMTD)](http://www.cp.jku.at/datasets/MMTD/http://www.cp.jku.at/datasets/MMTD/) is composed of some ID information, the Tweeting events representing a music listening event (including user id, location and other info) as well as a more detail description on the different locations and country data."
   ]
  },
  {
   "cell_type": "code",
   "execution_count": 62,
   "id": "e8ee6a2b-2cdd-434f-9e3f-231d780bffb3",
   "metadata": {},
   "outputs": [
    {
     "data": {
      "text/plain": [
       "['resources/FINAL/MMTD/mmtd_songs_ids.csv',\n",
       " 'resources/FINAL/MMTD/MMTD_tweets_events.csv',\n",
       " 'resources/FINAL/MMTD/locations.csv',\n",
       " 'resources/FINAL/MMTD/countryInfo.csv']"
      ]
     },
     "execution_count": 62,
     "metadata": {},
     "output_type": "execute_result"
    }
   ],
   "source": [
    "mmtd_files = [file for file in files if \"MMTD\" in file]\n",
    "mmtd_files"
   ]
  },
  {
   "cell_type": "markdown",
   "id": "e2c1f13b-c453-43f7-9451-4c895228bce5",
   "metadata": {},
   "source": [
    "#### 6.1 MMTD - Song ID's"
   ]
  },
  {
   "cell_type": "code",
   "execution_count": 63,
   "id": "2ae10d01-6132-46b7-9305-a31907df6994",
   "metadata": {},
   "outputs": [
    {
     "data": {
      "text/plain": [
       "'resources/FINAL/MMTD/mmtd_songs_ids.csv'"
      ]
     },
     "execution_count": 63,
     "metadata": {},
     "output_type": "execute_result"
    }
   ],
   "source": [
    "file = mmtd_files[0]\n",
    "file"
   ]
  },
  {
   "cell_type": "code",
   "execution_count": 64,
   "id": "0e066df8-4eb2-4073-9914-ba9e1f1cba36",
   "metadata": {},
   "outputs": [
    {
     "data": {
      "text/html": [
       "<div>\n",
       "<style scoped>\n",
       "    .dataframe tbody tr th:only-of-type {\n",
       "        vertical-align: middle;\n",
       "    }\n",
       "\n",
       "    .dataframe tbody tr th {\n",
       "        vertical-align: top;\n",
       "    }\n",
       "\n",
       "    .dataframe thead th {\n",
       "        text-align: right;\n",
       "    }\n",
       "</style>\n",
       "<table border=\"1\" class=\"dataframe\">\n",
       "  <thead>\n",
       "    <tr style=\"text-align: right;\">\n",
       "      <th></th>\n",
       "      <th>Artist</th>\n",
       "      <th>Track</th>\n",
       "      <th>track_id</th>\n",
       "    </tr>\n",
       "  </thead>\n",
       "  <tbody>\n",
       "    <tr>\n",
       "      <th>0</th>\n",
       "      <td>10 Years</td>\n",
       "      <td>Wasteland</td>\n",
       "      <td>8512</td>\n",
       "    </tr>\n",
       "    <tr>\n",
       "      <th>1</th>\n",
       "      <td>10cc</td>\n",
       "      <td>Dreadlock Holiday</td>\n",
       "      <td>12225</td>\n",
       "    </tr>\n",
       "    <tr>\n",
       "      <th>2</th>\n",
       "      <td>10cc</td>\n",
       "      <td>Rubber Bullets</td>\n",
       "      <td>12349</td>\n",
       "    </tr>\n",
       "  </tbody>\n",
       "</table>\n",
       "</div>"
      ],
      "text/plain": [
       "     Artist              Track  track_id\n",
       "0  10 Years          Wasteland      8512\n",
       "1      10cc  Dreadlock Holiday     12225\n",
       "2      10cc     Rubber Bullets     12349"
      ]
     },
     "execution_count": 64,
     "metadata": {},
     "output_type": "execute_result"
    }
   ],
   "source": [
    "df = pd.read_csv(file)\n",
    "df.head(3)"
   ]
  },
  {
   "cell_type": "code",
   "execution_count": 65,
   "id": "437d0975-318f-436a-8703-899193c3e6c5",
   "metadata": {},
   "outputs": [
    {
     "data": {
      "text/plain": [
       "Index(['Artist', 'Track', 'track_id'], dtype='object')"
      ]
     },
     "execution_count": 65,
     "metadata": {},
     "output_type": "execute_result"
    }
   ],
   "source": [
    "df.columns"
   ]
  },
  {
   "cell_type": "code",
   "execution_count": 66,
   "id": "e20d342f-cb14-47a1-bd7b-8bc9899fe816",
   "metadata": {},
   "outputs": [
    {
     "data": {
      "text/plain": [
       "(8847, 3)"
      ]
     },
     "execution_count": 66,
     "metadata": {},
     "output_type": "execute_result"
    }
   ],
   "source": [
    "df.shape"
   ]
  },
  {
   "cell_type": "markdown",
   "id": "bb65396d-50fc-445a-8591-76603a7ee76d",
   "metadata": {},
   "source": [
    "#### 6.2 MMTD - Listening Events"
   ]
  },
  {
   "cell_type": "code",
   "execution_count": 67,
   "id": "684c9bd1-963c-4bd0-a22e-eeec9a093136",
   "metadata": {},
   "outputs": [
    {
     "data": {
      "text/plain": [
       "'resources/FINAL/MMTD/MMTD_tweets_events.csv'"
      ]
     },
     "execution_count": 67,
     "metadata": {},
     "output_type": "execute_result"
    }
   ],
   "source": [
    "file = mmtd_files[1]\n",
    "file"
   ]
  },
  {
   "cell_type": "code",
   "execution_count": 68,
   "id": "6734afe4-0644-4457-9dce-18f27c8531d2",
   "metadata": {},
   "outputs": [
    {
     "data": {
      "text/html": [
       "<div>\n",
       "<style scoped>\n",
       "    .dataframe tbody tr th:only-of-type {\n",
       "        vertical-align: middle;\n",
       "    }\n",
       "\n",
       "    .dataframe tbody tr th {\n",
       "        vertical-align: top;\n",
       "    }\n",
       "\n",
       "    .dataframe thead th {\n",
       "        text-align: right;\n",
       "    }\n",
       "</style>\n",
       "<table border=\"1\" class=\"dataframe\">\n",
       "  <thead>\n",
       "    <tr style=\"text-align: right;\">\n",
       "      <th></th>\n",
       "      <th>tweet_userId</th>\n",
       "      <th>tweet_datetime</th>\n",
       "      <th>tweet_weekday</th>\n",
       "      <th>tweet_longitude</th>\n",
       "      <th>tweet_latitude</th>\n",
       "      <th>Artist</th>\n",
       "      <th>Track</th>\n",
       "      <th>track_id</th>\n",
       "    </tr>\n",
       "  </thead>\n",
       "  <tbody>\n",
       "    <tr>\n",
       "      <th>0</th>\n",
       "      <td>199729912</td>\n",
       "      <td>2012-02-09 00:48:30</td>\n",
       "      <td>3</td>\n",
       "      <td>-46.5955</td>\n",
       "      <td>-23.6828</td>\n",
       "      <td>Slipknot</td>\n",
       "      <td>Iowa</td>\n",
       "      <td>6721161</td>\n",
       "    </tr>\n",
       "    <tr>\n",
       "      <th>1</th>\n",
       "      <td>169895729</td>\n",
       "      <td>2012-05-12 00:31:42</td>\n",
       "      <td>5</td>\n",
       "      <td>-40.3339</td>\n",
       "      <td>-20.2784</td>\n",
       "      <td>Slipknot</td>\n",
       "      <td>Iowa</td>\n",
       "      <td>6721161</td>\n",
       "    </tr>\n",
       "    <tr>\n",
       "      <th>2</th>\n",
       "      <td>78146702</td>\n",
       "      <td>2012-01-27 16:49:19</td>\n",
       "      <td>4</td>\n",
       "      <td>-34.9394</td>\n",
       "      <td>-8.0436</td>\n",
       "      <td>Slipknot</td>\n",
       "      <td>Iowa</td>\n",
       "      <td>6721161</td>\n",
       "    </tr>\n",
       "  </tbody>\n",
       "</table>\n",
       "</div>"
      ],
      "text/plain": [
       "   tweet_userId       tweet_datetime  tweet_weekday  tweet_longitude  \\\n",
       "0     199729912  2012-02-09 00:48:30              3         -46.5955   \n",
       "1     169895729  2012-05-12 00:31:42              5         -40.3339   \n",
       "2      78146702  2012-01-27 16:49:19              4         -34.9394   \n",
       "\n",
       "   tweet_latitude    Artist Track  track_id  \n",
       "0        -23.6828  Slipknot  Iowa   6721161  \n",
       "1        -20.2784  Slipknot  Iowa   6721161  \n",
       "2         -8.0436  Slipknot  Iowa   6721161  "
      ]
     },
     "execution_count": 68,
     "metadata": {},
     "output_type": "execute_result"
    }
   ],
   "source": [
    "df = pd.read_csv(file)\n",
    "df.head(3)"
   ]
  },
  {
   "cell_type": "code",
   "execution_count": 69,
   "id": "841c2be5-a834-417a-b094-6a939a4bc33e",
   "metadata": {},
   "outputs": [
    {
     "data": {
      "text/plain": [
       "Index(['tweet_userId', 'tweet_datetime', 'tweet_weekday', 'tweet_longitude',\n",
       "       'tweet_latitude', 'Artist', 'Track', 'track_id'],\n",
       "      dtype='object')"
      ]
     },
     "execution_count": 69,
     "metadata": {},
     "output_type": "execute_result"
    }
   ],
   "source": [
    "df.columns"
   ]
  },
  {
   "cell_type": "code",
   "execution_count": 70,
   "id": "feb2b402-e2ea-42e1-9f8d-207ba536572b",
   "metadata": {},
   "outputs": [
    {
     "data": {
      "text/plain": [
       "(97062, 8)"
      ]
     },
     "execution_count": 70,
     "metadata": {},
     "output_type": "execute_result"
    }
   ],
   "source": [
    "df.shape"
   ]
  },
  {
   "cell_type": "markdown",
   "id": "c636d674-275a-4ef3-a75b-b5eefb91956f",
   "metadata": {},
   "source": [
    "#### 6.3 MMTD - Locations"
   ]
  },
  {
   "cell_type": "code",
   "execution_count": 86,
   "id": "ff5b29ea-f5dc-454f-91a8-94721f5b56a1",
   "metadata": {},
   "outputs": [
    {
     "data": {
      "text/plain": [
       "'resources/FINAL/MMTD/locations.csv'"
      ]
     },
     "execution_count": 86,
     "metadata": {},
     "output_type": "execute_result"
    }
   ],
   "source": [
    "file = mmtd_files[2]\n",
    "file"
   ]
  },
  {
   "cell_type": "code",
   "execution_count": 87,
   "id": "2eb8cfb8-ff8f-4722-bfea-d681a8559b0d",
   "metadata": {},
   "outputs": [
    {
     "data": {
      "text/html": [
       "<div>\n",
       "<style scoped>\n",
       "    .dataframe tbody tr th:only-of-type {\n",
       "        vertical-align: middle;\n",
       "    }\n",
       "\n",
       "    .dataframe tbody tr th {\n",
       "        vertical-align: top;\n",
       "    }\n",
       "\n",
       "    .dataframe thead th {\n",
       "        text-align: right;\n",
       "    }\n",
       "</style>\n",
       "<table border=\"1\" class=\"dataframe\">\n",
       "  <thead>\n",
       "    <tr style=\"text-align: right;\">\n",
       "      <th></th>\n",
       "      <th>location_id</th>\n",
       "      <th>latitude</th>\n",
       "      <th>longitude</th>\n",
       "      <th>country</th>\n",
       "      <th>state</th>\n",
       "      <th>county</th>\n",
       "      <th>city</th>\n",
       "      <th>postalCode</th>\n",
       "      <th>street</th>\n",
       "      <th>timezone</th>\n",
       "    </tr>\n",
       "  </thead>\n",
       "  <tbody>\n",
       "    <tr>\n",
       "      <th>0</th>\n",
       "      <td>1</td>\n",
       "      <td>-82.863</td>\n",
       "      <td>-135.000</td>\n",
       "      <td>AQ</td>\n",
       "      <td>NaN</td>\n",
       "      <td>NaN</td>\n",
       "      <td>NaN</td>\n",
       "      <td>NaN</td>\n",
       "      <td>NaN</td>\n",
       "      <td>12.0</td>\n",
       "    </tr>\n",
       "    <tr>\n",
       "      <th>1</th>\n",
       "      <td>2</td>\n",
       "      <td>-64.280</td>\n",
       "      <td>-63.116</td>\n",
       "      <td>AQ</td>\n",
       "      <td>NaN</td>\n",
       "      <td>NaN</td>\n",
       "      <td>NaN</td>\n",
       "      <td>NaN</td>\n",
       "      <td>NaN</td>\n",
       "      <td>-4.0</td>\n",
       "    </tr>\n",
       "    <tr>\n",
       "      <th>2</th>\n",
       "      <td>3</td>\n",
       "      <td>-53.170</td>\n",
       "      <td>-70.918</td>\n",
       "      <td>CL</td>\n",
       "      <td>Magallanes and Antartica Chilena Region</td>\n",
       "      <td>NaN</td>\n",
       "      <td>Punta Arenas</td>\n",
       "      <td>NaN</td>\n",
       "      <td>Capitán Ramón Serrano</td>\n",
       "      <td>-4.0</td>\n",
       "    </tr>\n",
       "  </tbody>\n",
       "</table>\n",
       "</div>"
      ],
      "text/plain": [
       "   location_id  latitude  longitude country  \\\n",
       "0            1   -82.863   -135.000      AQ   \n",
       "1            2   -64.280    -63.116      AQ   \n",
       "2            3   -53.170    -70.918      CL   \n",
       "\n",
       "                                     state county          city postalCode  \\\n",
       "0                                      NaN    NaN           NaN        NaN   \n",
       "1                                      NaN    NaN           NaN        NaN   \n",
       "2  Magallanes and Antartica Chilena Region    NaN  Punta Arenas        NaN   \n",
       "\n",
       "                  street  timezone  \n",
       "0                    NaN      12.0  \n",
       "1                    NaN      -4.0  \n",
       "2  Capitán Ramón Serrano      -4.0  "
      ]
     },
     "execution_count": 87,
     "metadata": {},
     "output_type": "execute_result"
    }
   ],
   "source": [
    "df = pd.read_csv(file, index_col=0)\n",
    "df.head(3)"
   ]
  },
  {
   "cell_type": "code",
   "execution_count": 88,
   "id": "5c57bc9e-a55e-4c18-868d-8fbbb0d646e4",
   "metadata": {},
   "outputs": [
    {
     "data": {
      "text/plain": [
       "Index(['location_id', 'latitude', 'longitude', 'country', 'state', 'county',\n",
       "       'city', 'postalCode', 'street', 'timezone'],\n",
       "      dtype='object')"
      ]
     },
     "execution_count": 88,
     "metadata": {},
     "output_type": "execute_result"
    }
   ],
   "source": [
    "df.columns"
   ]
  },
  {
   "cell_type": "code",
   "execution_count": 89,
   "id": "b58eecd0-6ac5-464b-8613-c6e178a6ba2b",
   "metadata": {},
   "outputs": [
    {
     "data": {
      "text/plain": [
       "(244932, 10)"
      ]
     },
     "execution_count": 89,
     "metadata": {},
     "output_type": "execute_result"
    }
   ],
   "source": [
    "df.shape"
   ]
  },
  {
   "cell_type": "markdown",
   "id": "2d51dd90-73d0-4d4d-9638-c28c4cc65941",
   "metadata": {},
   "source": [
    "#### 6.4 MMTD - Country Info"
   ]
  },
  {
   "cell_type": "code",
   "execution_count": 90,
   "id": "bd2a59f4-62fe-4cec-8aba-55a9a23dd6eb",
   "metadata": {},
   "outputs": [
    {
     "data": {
      "text/plain": [
       "'resources/FINAL/MMTD/countryInfo.csv'"
      ]
     },
     "execution_count": 90,
     "metadata": {},
     "output_type": "execute_result"
    }
   ],
   "source": [
    "file = mmtd_files[3]\n",
    "file"
   ]
  },
  {
   "cell_type": "code",
   "execution_count": 91,
   "id": "274a19c5-d7b2-4ae4-aace-7e58414df65d",
   "metadata": {},
   "outputs": [
    {
     "data": {
      "text/html": [
       "<div>\n",
       "<style scoped>\n",
       "    .dataframe tbody tr th:only-of-type {\n",
       "        vertical-align: middle;\n",
       "    }\n",
       "\n",
       "    .dataframe tbody tr th {\n",
       "        vertical-align: top;\n",
       "    }\n",
       "\n",
       "    .dataframe thead th {\n",
       "        text-align: right;\n",
       "    }\n",
       "</style>\n",
       "<table border=\"1\" class=\"dataframe\">\n",
       "  <thead>\n",
       "    <tr style=\"text-align: right;\">\n",
       "      <th></th>\n",
       "      <th>countryCode</th>\n",
       "      <th>countryName</th>\n",
       "      <th>isoAlpha3</th>\n",
       "      <th>fipsCode</th>\n",
       "      <th>continent</th>\n",
       "      <th>continentName</th>\n",
       "      <th>capital</th>\n",
       "      <th>areaInSqKm</th>\n",
       "      <th>population</th>\n",
       "      <th>currencyCode</th>\n",
       "      <th>languages</th>\n",
       "      <th>west</th>\n",
       "      <th>north</th>\n",
       "      <th>east</th>\n",
       "      <th>south</th>\n",
       "    </tr>\n",
       "  </thead>\n",
       "  <tbody>\n",
       "    <tr>\n",
       "      <th>0</th>\n",
       "      <td>AD</td>\n",
       "      <td>Andorra</td>\n",
       "      <td>AND</td>\n",
       "      <td>AN</td>\n",
       "      <td>EU</td>\n",
       "      <td>Europe</td>\n",
       "      <td>Andorra la Vella</td>\n",
       "      <td>468.0</td>\n",
       "      <td>84000</td>\n",
       "      <td>EUR</td>\n",
       "      <td>ca</td>\n",
       "      <td>1.40719</td>\n",
       "      <td>42.6560</td>\n",
       "      <td>1.78654</td>\n",
       "      <td>42.4285</td>\n",
       "    </tr>\n",
       "    <tr>\n",
       "      <th>1</th>\n",
       "      <td>AE</td>\n",
       "      <td>United Arab Emirates</td>\n",
       "      <td>ARE</td>\n",
       "      <td>AE</td>\n",
       "      <td>AS</td>\n",
       "      <td>Asia</td>\n",
       "      <td>Abu Dhabi</td>\n",
       "      <td>82880.0</td>\n",
       "      <td>4975593</td>\n",
       "      <td>AED</td>\n",
       "      <td>ar-AE,fa,en,hi,ur</td>\n",
       "      <td>51.58330</td>\n",
       "      <td>26.0842</td>\n",
       "      <td>56.38170</td>\n",
       "      <td>22.6333</td>\n",
       "    </tr>\n",
       "    <tr>\n",
       "      <th>2</th>\n",
       "      <td>AF</td>\n",
       "      <td>Afghanistan</td>\n",
       "      <td>AFG</td>\n",
       "      <td>AF</td>\n",
       "      <td>AS</td>\n",
       "      <td>Asia</td>\n",
       "      <td>Kabul</td>\n",
       "      <td>647500.0</td>\n",
       "      <td>29121286</td>\n",
       "      <td>AFN</td>\n",
       "      <td>fa-AF,ps,uz-AF,tk</td>\n",
       "      <td>60.47840</td>\n",
       "      <td>38.4834</td>\n",
       "      <td>74.87940</td>\n",
       "      <td>29.3775</td>\n",
       "    </tr>\n",
       "  </tbody>\n",
       "</table>\n",
       "</div>"
      ],
      "text/plain": [
       "  countryCode           countryName isoAlpha3 fipsCode continent  \\\n",
       "0          AD               Andorra       AND       AN        EU   \n",
       "1          AE  United Arab Emirates       ARE       AE        AS   \n",
       "2          AF           Afghanistan       AFG       AF        AS   \n",
       "\n",
       "  continentName           capital  areaInSqKm  population currencyCode  \\\n",
       "0        Europe  Andorra la Vella       468.0       84000          EUR   \n",
       "1          Asia         Abu Dhabi     82880.0     4975593          AED   \n",
       "2          Asia             Kabul    647500.0    29121286          AFN   \n",
       "\n",
       "           languages      west    north      east    south  \n",
       "0                 ca   1.40719  42.6560   1.78654  42.4285  \n",
       "1  ar-AE,fa,en,hi,ur  51.58330  26.0842  56.38170  22.6333  \n",
       "2  fa-AF,ps,uz-AF,tk  60.47840  38.4834  74.87940  29.3775  "
      ]
     },
     "execution_count": 91,
     "metadata": {},
     "output_type": "execute_result"
    }
   ],
   "source": [
    "df = pd.read_csv(file, index_col=0)\n",
    "df.head(3)"
   ]
  },
  {
   "cell_type": "code",
   "execution_count": 92,
   "id": "29d12ff7-fd88-4b65-8691-8d0aac95e3e5",
   "metadata": {},
   "outputs": [
    {
     "data": {
      "text/plain": [
       "Index(['countryCode', 'countryName', 'isoAlpha3', 'fipsCode', 'continent',\n",
       "       'continentName', 'capital', 'areaInSqKm', 'population', 'currencyCode',\n",
       "       'languages', 'west', 'north', 'east', 'south'],\n",
       "      dtype='object')"
      ]
     },
     "execution_count": 92,
     "metadata": {},
     "output_type": "execute_result"
    }
   ],
   "source": [
    "df.columns"
   ]
  },
  {
   "cell_type": "code",
   "execution_count": 93,
   "id": "235cbedc-6378-477a-a6d4-9a5558ec19b8",
   "metadata": {},
   "outputs": [
    {
     "data": {
      "text/plain": [
       "(250, 15)"
      ]
     },
     "execution_count": 93,
     "metadata": {},
     "output_type": "execute_result"
    }
   ],
   "source": [
    "df.shape"
   ]
  },
  {
   "cell_type": "markdown",
   "id": "ee687c14-a86d-4331-b91f-693735704d32",
   "metadata": {
    "jp-MarkdownHeadingCollapsed": true,
    "tags": []
   },
   "source": [
    "## 7. MuMu\n",
    "\n",
    "The [MuMu](https://www.upf.edu/web/mtg/mumuhttps://www.upf.edu/web/mtg/mumu) dataset contains valuabe information about amazon album purchases, such as \"bought together\" data, reviews and genre labeling."
   ]
  },
  {
   "cell_type": "code",
   "execution_count": 127,
   "id": "7a98b140-3cf2-4ac0-b5f1-d53a10939284",
   "metadata": {},
   "outputs": [
    {
     "data": {
      "text/plain": [
       "['resources/FINAL/MuMu/amazon_buy_after_viewing.csv',\n",
       " 'resources/FINAL/MuMu/amazon_album_metadata.csv',\n",
       " 'resources/FINAL/MuMu/amazon_also_viewed.csv',\n",
       " 'resources/FINAL/MuMu/amazon_bought_together.csv',\n",
       " 'resources/FINAL/MuMu/amazon_reviews_MuMu.csv',\n",
       " 'resources/FINAL/MuMu/MuMu_dataset_single-label.csv',\n",
       " 'resources/FINAL/MuMu/MuMu_dataset_multi-label.csv']"
      ]
     },
     "execution_count": 127,
     "metadata": {},
     "output_type": "execute_result"
    }
   ],
   "source": [
    "mumu_files = [file for file in files if \"MuMu\" in file]\n",
    "mumu_files"
   ]
  },
  {
   "cell_type": "markdown",
   "id": "06b0493e-4d3d-41ad-a707-4e9db0dc38b0",
   "metadata": {
    "tags": []
   },
   "source": [
    "#### 7.1 MuMu - Amazon - Buy After Viewing"
   ]
  },
  {
   "cell_type": "code",
   "execution_count": 104,
   "id": "5d0f77d6-36ed-4c6d-8c49-d1ae3b346a89",
   "metadata": {},
   "outputs": [
    {
     "data": {
      "text/plain": [
       "'resources/FINAL/MuMu/amazon_buy_after_viewing.csv'"
      ]
     },
     "execution_count": 104,
     "metadata": {},
     "output_type": "execute_result"
    }
   ],
   "source": [
    "file = mumu_files[0]\n",
    "file"
   ]
  },
  {
   "cell_type": "code",
   "execution_count": 105,
   "id": "29152e36-2ea7-4fc3-a23e-50c9415494d6",
   "metadata": {},
   "outputs": [
    {
     "data": {
      "text/html": [
       "<div>\n",
       "<style scoped>\n",
       "    .dataframe tbody tr th:only-of-type {\n",
       "        vertical-align: middle;\n",
       "    }\n",
       "\n",
       "    .dataframe tbody tr th {\n",
       "        vertical-align: top;\n",
       "    }\n",
       "\n",
       "    .dataframe thead th {\n",
       "        text-align: right;\n",
       "    }\n",
       "</style>\n",
       "<table border=\"1\" class=\"dataframe\">\n",
       "  <thead>\n",
       "    <tr style=\"text-align: right;\">\n",
       "      <th></th>\n",
       "      <th>amazon_id</th>\n",
       "      <th>buy_after_viewing_amazon_id</th>\n",
       "    </tr>\n",
       "  </thead>\n",
       "  <tbody>\n",
       "    <tr>\n",
       "      <th>0</th>\n",
       "      <td>3937406328</td>\n",
       "      <td>B000007WK4</td>\n",
       "    </tr>\n",
       "    <tr>\n",
       "      <th>1</th>\n",
       "      <td>4266950926</td>\n",
       "      <td>B000BNM7LQ</td>\n",
       "    </tr>\n",
       "    <tr>\n",
       "      <th>2</th>\n",
       "      <td>5555799063</td>\n",
       "      <td>B0000037C6</td>\n",
       "    </tr>\n",
       "  </tbody>\n",
       "</table>\n",
       "</div>"
      ],
      "text/plain": [
       "    amazon_id buy_after_viewing_amazon_id\n",
       "0  3937406328                  B000007WK4\n",
       "1  4266950926                  B000BNM7LQ\n",
       "2  5555799063                  B0000037C6"
      ]
     },
     "execution_count": 105,
     "metadata": {},
     "output_type": "execute_result"
    }
   ],
   "source": [
    "df = pd.read_csv(file)\n",
    "df.head(3)"
   ]
  },
  {
   "cell_type": "code",
   "execution_count": 106,
   "id": "46eaf421-0432-4dd7-95e2-30c5d7d38ddc",
   "metadata": {},
   "outputs": [
    {
     "data": {
      "text/plain": [
       "Index(['amazon_id', 'buy_after_viewing_amazon_id'], dtype='object')"
      ]
     },
     "execution_count": 106,
     "metadata": {},
     "output_type": "execute_result"
    }
   ],
   "source": [
    "df.columns"
   ]
  },
  {
   "cell_type": "code",
   "execution_count": 107,
   "id": "2aa82916-cb86-4309-8307-e8853b4be769",
   "metadata": {},
   "outputs": [
    {
     "data": {
      "text/plain": [
       "(10975, 2)"
      ]
     },
     "execution_count": 107,
     "metadata": {},
     "output_type": "execute_result"
    }
   ],
   "source": [
    "df.shape"
   ]
  },
  {
   "cell_type": "markdown",
   "id": "65935024-7961-48bf-80f7-cc414b484cf2",
   "metadata": {
    "tags": []
   },
   "source": [
    "#### 7.2 MuMu - Amazon - Album Metadata"
   ]
  },
  {
   "cell_type": "code",
   "execution_count": 108,
   "id": "eeaa52e9-0f27-490f-85a3-741aa5bd8bfb",
   "metadata": {},
   "outputs": [
    {
     "data": {
      "text/plain": [
       "'resources/FINAL/MuMu/amazon_album_metadata.csv'"
      ]
     },
     "execution_count": 108,
     "metadata": {},
     "output_type": "execute_result"
    }
   ],
   "source": [
    "file = mumu_files[1]\n",
    "file"
   ]
  },
  {
   "cell_type": "code",
   "execution_count": 109,
   "id": "e5750f07-c226-4a1a-b4f8-f4fbc6aade60",
   "metadata": {},
   "outputs": [
    {
     "data": {
      "text/html": [
       "<div>\n",
       "<style scoped>\n",
       "    .dataframe tbody tr th:only-of-type {\n",
       "        vertical-align: middle;\n",
       "    }\n",
       "\n",
       "    .dataframe tbody tr th {\n",
       "        vertical-align: top;\n",
       "    }\n",
       "\n",
       "    .dataframe thead th {\n",
       "        text-align: right;\n",
       "    }\n",
       "</style>\n",
       "<table border=\"1\" class=\"dataframe\">\n",
       "  <thead>\n",
       "    <tr style=\"text-align: right;\">\n",
       "      <th></th>\n",
       "      <th>title</th>\n",
       "      <th>price</th>\n",
       "      <th>imUrl</th>\n",
       "      <th>amazon_id</th>\n",
       "      <th>Rank - Music</th>\n",
       "    </tr>\n",
       "  </thead>\n",
       "  <tbody>\n",
       "    <tr>\n",
       "      <th>0</th>\n",
       "      <td>Comfort Zone</td>\n",
       "      <td>20.69</td>\n",
       "      <td>http://ecx.images-amazon.com/images/I/51fdvJLW...</td>\n",
       "      <td>1458389375</td>\n",
       "      <td>NaN</td>\n",
       "    </tr>\n",
       "    <tr>\n",
       "      <th>1</th>\n",
       "      <td>Kirtan</td>\n",
       "      <td>22.94</td>\n",
       "      <td>http://ecx.images-amazon.com/images/I/51GGK0zo...</td>\n",
       "      <td>1591791065</td>\n",
       "      <td>89340.0</td>\n",
       "    </tr>\n",
       "    <tr>\n",
       "      <th>2</th>\n",
       "      <td>Rough Guide to Gypsy Music</td>\n",
       "      <td>21.50</td>\n",
       "      <td>http://ecx.images-amazon.com/images/I/51Li1pqK...</td>\n",
       "      <td>1906063443</td>\n",
       "      <td>337752.0</td>\n",
       "    </tr>\n",
       "  </tbody>\n",
       "</table>\n",
       "</div>"
      ],
      "text/plain": [
       "                        title  price  \\\n",
       "0                Comfort Zone  20.69   \n",
       "1                      Kirtan  22.94   \n",
       "2  Rough Guide to Gypsy Music  21.50   \n",
       "\n",
       "                                               imUrl   amazon_id  Rank - Music  \n",
       "0  http://ecx.images-amazon.com/images/I/51fdvJLW...  1458389375           NaN  \n",
       "1  http://ecx.images-amazon.com/images/I/51GGK0zo...  1591791065       89340.0  \n",
       "2  http://ecx.images-amazon.com/images/I/51Li1pqK...  1906063443      337752.0  "
      ]
     },
     "execution_count": 109,
     "metadata": {},
     "output_type": "execute_result"
    }
   ],
   "source": [
    "df = pd.read_csv(file)\n",
    "df.head(3)"
   ]
  },
  {
   "cell_type": "code",
   "execution_count": 106,
   "id": "426684f9-84db-452b-8435-6e58836fe647",
   "metadata": {},
   "outputs": [
    {
     "data": {
      "text/plain": [
       "Index(['amazon_id', 'buy_after_viewing_amazon_id'], dtype='object')"
      ]
     },
     "execution_count": 106,
     "metadata": {},
     "output_type": "execute_result"
    }
   ],
   "source": [
    "df.columns"
   ]
  },
  {
   "cell_type": "code",
   "execution_count": 107,
   "id": "e040006c-9518-46f0-b37a-8ba63d6173be",
   "metadata": {},
   "outputs": [
    {
     "data": {
      "text/plain": [
       "(10975, 2)"
      ]
     },
     "execution_count": 107,
     "metadata": {},
     "output_type": "execute_result"
    }
   ],
   "source": [
    "df.shape"
   ]
  },
  {
   "cell_type": "markdown",
   "id": "0996d737-fe8f-4fcc-9582-ee4ef3d0d28a",
   "metadata": {
    "tags": []
   },
   "source": [
    "#### 7.3 MuMu - Amazon - Also Viewed"
   ]
  },
  {
   "cell_type": "code",
   "execution_count": 110,
   "id": "0ca32df2-bf5e-4185-a116-13b4c106c0fa",
   "metadata": {},
   "outputs": [
    {
     "data": {
      "text/plain": [
       "'resources/FINAL/MuMu/amazon_also_viewed.csv'"
      ]
     },
     "execution_count": 110,
     "metadata": {},
     "output_type": "execute_result"
    }
   ],
   "source": [
    "file = mumu_files[2]\n",
    "file"
   ]
  },
  {
   "cell_type": "code",
   "execution_count": 111,
   "id": "8e843190-03d6-4950-91d3-a675e7e2b0ea",
   "metadata": {},
   "outputs": [
    {
     "data": {
      "text/html": [
       "<div>\n",
       "<style scoped>\n",
       "    .dataframe tbody tr th:only-of-type {\n",
       "        vertical-align: middle;\n",
       "    }\n",
       "\n",
       "    .dataframe tbody tr th {\n",
       "        vertical-align: top;\n",
       "    }\n",
       "\n",
       "    .dataframe thead th {\n",
       "        text-align: right;\n",
       "    }\n",
       "</style>\n",
       "<table border=\"1\" class=\"dataframe\">\n",
       "  <thead>\n",
       "    <tr style=\"text-align: right;\">\n",
       "      <th></th>\n",
       "      <th>amazon_id</th>\n",
       "      <th>also_viewed_amazon_id</th>\n",
       "    </tr>\n",
       "  </thead>\n",
       "  <tbody>\n",
       "    <tr>\n",
       "      <th>0</th>\n",
       "      <td>5554329039</td>\n",
       "      <td>B000005XG5</td>\n",
       "    </tr>\n",
       "    <tr>\n",
       "      <th>1</th>\n",
       "      <td>5555728123</td>\n",
       "      <td>B000003FY9</td>\n",
       "    </tr>\n",
       "    <tr>\n",
       "      <th>2</th>\n",
       "      <td>5555728123</td>\n",
       "      <td>B000001G7R</td>\n",
       "    </tr>\n",
       "  </tbody>\n",
       "</table>\n",
       "</div>"
      ],
      "text/plain": [
       "    amazon_id also_viewed_amazon_id\n",
       "0  5554329039            B000005XG5\n",
       "1  5555728123            B000003FY9\n",
       "2  5555728123            B000001G7R"
      ]
     },
     "execution_count": 111,
     "metadata": {},
     "output_type": "execute_result"
    }
   ],
   "source": [
    "df = pd.read_csv(file)\n",
    "df.head(3)"
   ]
  },
  {
   "cell_type": "code",
   "execution_count": 112,
   "id": "cbfa9de6-f237-4fc4-8a35-20ff96da61ab",
   "metadata": {},
   "outputs": [
    {
     "data": {
      "text/plain": [
       "Index(['amazon_id', 'also_viewed_amazon_id'], dtype='object')"
      ]
     },
     "execution_count": 112,
     "metadata": {},
     "output_type": "execute_result"
    }
   ],
   "source": [
    "df.columns"
   ]
  },
  {
   "cell_type": "code",
   "execution_count": 113,
   "id": "0475c5d2-32ab-41cb-9a55-837fe357dc36",
   "metadata": {},
   "outputs": [
    {
     "data": {
      "text/plain": [
       "(39252, 2)"
      ]
     },
     "execution_count": 113,
     "metadata": {},
     "output_type": "execute_result"
    }
   ],
   "source": [
    "df.shape"
   ]
  },
  {
   "cell_type": "markdown",
   "id": "c0e15a4f-5e30-4287-ad6c-0e78c9063c40",
   "metadata": {
    "tags": []
   },
   "source": [
    "#### 7.4 MuMu - Amazon - Bought Together"
   ]
  },
  {
   "cell_type": "code",
   "execution_count": 116,
   "id": "6b51d369-db02-42eb-8e1d-b2d5a22cfe99",
   "metadata": {},
   "outputs": [
    {
     "data": {
      "text/plain": [
       "'resources/FINAL/MuMu/amazon_bought_together.csv'"
      ]
     },
     "execution_count": 116,
     "metadata": {},
     "output_type": "execute_result"
    }
   ],
   "source": [
    "file = mumu_files[3]\n",
    "file"
   ]
  },
  {
   "cell_type": "code",
   "execution_count": 117,
   "id": "79c85222-b0bf-487e-afdf-53171557eee1",
   "metadata": {},
   "outputs": [
    {
     "data": {
      "text/html": [
       "<div>\n",
       "<style scoped>\n",
       "    .dataframe tbody tr th:only-of-type {\n",
       "        vertical-align: middle;\n",
       "    }\n",
       "\n",
       "    .dataframe tbody tr th {\n",
       "        vertical-align: top;\n",
       "    }\n",
       "\n",
       "    .dataframe thead th {\n",
       "        text-align: right;\n",
       "    }\n",
       "</style>\n",
       "<table border=\"1\" class=\"dataframe\">\n",
       "  <thead>\n",
       "    <tr style=\"text-align: right;\">\n",
       "      <th></th>\n",
       "      <th>amazon_id</th>\n",
       "      <th>bought_together_amazon_id</th>\n",
       "    </tr>\n",
       "  </thead>\n",
       "  <tbody>\n",
       "    <tr>\n",
       "      <th>0</th>\n",
       "      <td>1591791065</td>\n",
       "      <td>B000B6FXWS</td>\n",
       "    </tr>\n",
       "    <tr>\n",
       "      <th>1</th>\n",
       "      <td>1591791065</td>\n",
       "      <td>B000AA4JHK</td>\n",
       "    </tr>\n",
       "    <tr>\n",
       "      <th>2</th>\n",
       "      <td>1929243766</td>\n",
       "      <td>B003KWWDE6</td>\n",
       "    </tr>\n",
       "  </tbody>\n",
       "</table>\n",
       "</div>"
      ],
      "text/plain": [
       "    amazon_id bought_together_amazon_id\n",
       "0  1591791065                B000B6FXWS\n",
       "1  1591791065                B000AA4JHK\n",
       "2  1929243766                B003KWWDE6"
      ]
     },
     "execution_count": 117,
     "metadata": {},
     "output_type": "execute_result"
    }
   ],
   "source": [
    "df = pd.read_csv(file)\n",
    "df.head(3)"
   ]
  },
  {
   "cell_type": "code",
   "execution_count": 118,
   "id": "d75a3e6e-fe40-4cfc-b19b-44fee1558fd3",
   "metadata": {},
   "outputs": [
    {
     "data": {
      "text/plain": [
       "Index(['amazon_id', 'bought_together_amazon_id'], dtype='object')"
      ]
     },
     "execution_count": 118,
     "metadata": {},
     "output_type": "execute_result"
    }
   ],
   "source": [
    "df.columns"
   ]
  },
  {
   "cell_type": "code",
   "execution_count": 119,
   "id": "46e59fea-97aa-4b51-82c6-0dae61d46946",
   "metadata": {},
   "outputs": [
    {
     "data": {
      "text/plain": [
       "(21746, 2)"
      ]
     },
     "execution_count": 119,
     "metadata": {},
     "output_type": "execute_result"
    }
   ],
   "source": [
    "df.shape"
   ]
  },
  {
   "cell_type": "markdown",
   "id": "737fe295-2c8c-4533-92b8-238bb31ee079",
   "metadata": {
    "tags": []
   },
   "source": [
    "#### 7.5 MuMu - Amazon - Album Reviews"
   ]
  },
  {
   "cell_type": "code",
   "execution_count": 128,
   "id": "2ed5291d-57ee-4c67-ab84-b939d16f7b10",
   "metadata": {},
   "outputs": [
    {
     "data": {
      "text/plain": [
       "'resources/FINAL/MuMu/amazon_reviews_MuMu.csv'"
      ]
     },
     "execution_count": 128,
     "metadata": {},
     "output_type": "execute_result"
    }
   ],
   "source": [
    "file = mumu_files[4]\n",
    "file"
   ]
  },
  {
   "cell_type": "code",
   "execution_count": 129,
   "id": "481e3a76-00ad-4537-9bdb-2e0246daaba3",
   "metadata": {},
   "outputs": [
    {
     "data": {
      "text/html": [
       "<div>\n",
       "<style scoped>\n",
       "    .dataframe tbody tr th:only-of-type {\n",
       "        vertical-align: middle;\n",
       "    }\n",
       "\n",
       "    .dataframe tbody tr th {\n",
       "        vertical-align: top;\n",
       "    }\n",
       "\n",
       "    .dataframe thead th {\n",
       "        text-align: right;\n",
       "    }\n",
       "</style>\n",
       "<table border=\"1\" class=\"dataframe\">\n",
       "  <thead>\n",
       "    <tr style=\"text-align: right;\">\n",
       "      <th></th>\n",
       "      <th>reviewerID</th>\n",
       "      <th>reviewerName</th>\n",
       "      <th>helpful</th>\n",
       "      <th>amazon_id</th>\n",
       "      <th>unixReviewTime</th>\n",
       "      <th>reviewText</th>\n",
       "      <th>overall</th>\n",
       "      <th>reviewTime</th>\n",
       "      <th>summary</th>\n",
       "    </tr>\n",
       "  </thead>\n",
       "  <tbody>\n",
       "    <tr>\n",
       "      <th>0</th>\n",
       "      <td>A1T7P8KS0NYQ7I</td>\n",
       "      <td>Elizabeth</td>\n",
       "      <td>[0, 0]</td>\n",
       "      <td>1458389375</td>\n",
       "      <td>1312588800</td>\n",
       "      <td>Earth and Sky Dancing Music, intelligent on so...</td>\n",
       "      <td>5.0</td>\n",
       "      <td>08 6, 2011</td>\n",
       "      <td>Smooth, Fun &amp; Deep -  And What A Voice!</td>\n",
       "    </tr>\n",
       "    <tr>\n",
       "      <th>1</th>\n",
       "      <td>A1OV48FXDQ6DZJ</td>\n",
       "      <td>A. Billings \"Drace\"</td>\n",
       "      <td>[14, 14]</td>\n",
       "      <td>1591791065</td>\n",
       "      <td>1127952000</td>\n",
       "      <td>I bought this based on the snippets that they ...</td>\n",
       "      <td>5.0</td>\n",
       "      <td>09 29, 2005</td>\n",
       "      <td>Kirtan is Really Addictive</td>\n",
       "    </tr>\n",
       "    <tr>\n",
       "      <th>2</th>\n",
       "      <td>A1XDPR9ZJGC8JY</td>\n",
       "      <td>A.Makote DeGuevara</td>\n",
       "      <td>[0, 0]</td>\n",
       "      <td>1591791065</td>\n",
       "      <td>1395705600</td>\n",
       "      <td>I really love Jai's voice, it's soothing and t...</td>\n",
       "      <td>5.0</td>\n",
       "      <td>03 25, 2014</td>\n",
       "      <td>Devotional Voice</td>\n",
       "    </tr>\n",
       "  </tbody>\n",
       "</table>\n",
       "</div>"
      ],
      "text/plain": [
       "       reviewerID         reviewerName   helpful   amazon_id  unixReviewTime  \\\n",
       "0  A1T7P8KS0NYQ7I            Elizabeth    [0, 0]  1458389375      1312588800   \n",
       "1  A1OV48FXDQ6DZJ  A. Billings \"Drace\"  [14, 14]  1591791065      1127952000   \n",
       "2  A1XDPR9ZJGC8JY   A.Makote DeGuevara    [0, 0]  1591791065      1395705600   \n",
       "\n",
       "                                          reviewText  overall   reviewTime  \\\n",
       "0  Earth and Sky Dancing Music, intelligent on so...      5.0   08 6, 2011   \n",
       "1  I bought this based on the snippets that they ...      5.0  09 29, 2005   \n",
       "2  I really love Jai's voice, it's soothing and t...      5.0  03 25, 2014   \n",
       "\n",
       "                                   summary  \n",
       "0  Smooth, Fun & Deep -  And What A Voice!  \n",
       "1               Kirtan is Really Addictive  \n",
       "2                         Devotional Voice  "
      ]
     },
     "execution_count": 129,
     "metadata": {},
     "output_type": "execute_result"
    }
   ],
   "source": [
    "df = pd.read_csv(file)\n",
    "df.head(3)"
   ]
  },
  {
   "cell_type": "code",
   "execution_count": 130,
   "id": "16d26f9a-ae42-4554-9396-8126d560a227",
   "metadata": {},
   "outputs": [
    {
     "data": {
      "text/plain": [
       "Index(['reviewerID', 'reviewerName', 'helpful', 'amazon_id', 'unixReviewTime',\n",
       "       'reviewText', 'overall', 'reviewTime', 'summary'],\n",
       "      dtype='object')"
      ]
     },
     "execution_count": 130,
     "metadata": {},
     "output_type": "execute_result"
    }
   ],
   "source": [
    "df.columns"
   ]
  },
  {
   "cell_type": "code",
   "execution_count": 131,
   "id": "90921ab5-5896-4b05-a20a-213639a4ff3a",
   "metadata": {},
   "outputs": [
    {
     "data": {
      "text/plain": [
       "(447583, 9)"
      ]
     },
     "execution_count": 131,
     "metadata": {},
     "output_type": "execute_result"
    }
   ],
   "source": [
    "df.shape"
   ]
  },
  {
   "cell_type": "markdown",
   "id": "eca450cc-4876-4bae-9468-9f4480cc6b94",
   "metadata": {
    "tags": []
   },
   "source": [
    "#### 7.6 MuMu - Amazon - Metadata and Genres"
   ]
  },
  {
   "cell_type": "code",
   "execution_count": 132,
   "id": "293c31e4-8a7f-4c11-b6b8-af989348d81e",
   "metadata": {},
   "outputs": [
    {
     "data": {
      "text/plain": [
       "'resources/FINAL/MuMu/MuMu_dataset_single-label.csv'"
      ]
     },
     "execution_count": 132,
     "metadata": {},
     "output_type": "execute_result"
    }
   ],
   "source": [
    "file = mumu_files[5]\n",
    "file"
   ]
  },
  {
   "cell_type": "code",
   "execution_count": 133,
   "id": "c1e948c2-ac2d-432d-80d4-41f8b8111743",
   "metadata": {},
   "outputs": [
    {
     "data": {
      "text/html": [
       "<div>\n",
       "<style scoped>\n",
       "    .dataframe tbody tr th:only-of-type {\n",
       "        vertical-align: middle;\n",
       "    }\n",
       "\n",
       "    .dataframe tbody tr th {\n",
       "        vertical-align: top;\n",
       "    }\n",
       "\n",
       "    .dataframe thead th {\n",
       "        text-align: right;\n",
       "    }\n",
       "</style>\n",
       "<table border=\"1\" class=\"dataframe\">\n",
       "  <thead>\n",
       "    <tr style=\"text-align: right;\">\n",
       "      <th></th>\n",
       "      <th>amazon_id</th>\n",
       "      <th>album_mbid</th>\n",
       "      <th>MSD_track_id</th>\n",
       "      <th>recording_mbid</th>\n",
       "      <th>artist_mbid</th>\n",
       "      <th>genres</th>\n",
       "    </tr>\n",
       "  </thead>\n",
       "  <tbody>\n",
       "    <tr>\n",
       "      <th>0</th>\n",
       "      <td>B0018ZB6ZO</td>\n",
       "      <td>0164b5ce-42f8-46bf-b140-61ecd2ed449e</td>\n",
       "      <td>TRYDUXK12903CE0C37</td>\n",
       "      <td>66dd470f-4c4f-4caa-b8d4-2ebc80a83cb6</td>\n",
       "      <td>7434b85a-4a06-42ba-9e1d-9c568c044842</td>\n",
       "      <td>Dance &amp; Electronic</td>\n",
       "    </tr>\n",
       "    <tr>\n",
       "      <th>1</th>\n",
       "      <td>B0018ZB6ZO</td>\n",
       "      <td>0164b5ce-42f8-46bf-b140-61ecd2ed449e</td>\n",
       "      <td>TRGWXYX128F426E27F</td>\n",
       "      <td>b45aef36-c3a3-42f2-90fb-728e8b3c54a2</td>\n",
       "      <td>7434b85a-4a06-42ba-9e1d-9c568c044842</td>\n",
       "      <td>Dance &amp; Electronic</td>\n",
       "    </tr>\n",
       "    <tr>\n",
       "      <th>2</th>\n",
       "      <td>B000003HGR</td>\n",
       "      <td>7fe6e337-9115-3719-855b-0441c42a2c36</td>\n",
       "      <td>TRVMIIJ12903CDBF1D</td>\n",
       "      <td>36b15f42-b441-4d64-8ba9-ca264ed1c6f1</td>\n",
       "      <td>1b54e90c-638e-4fdd-a20e-4ab09db9fdaf</td>\n",
       "      <td>Alternative Rock</td>\n",
       "    </tr>\n",
       "  </tbody>\n",
       "</table>\n",
       "</div>"
      ],
      "text/plain": [
       "    amazon_id                            album_mbid        MSD_track_id  \\\n",
       "0  B0018ZB6ZO  0164b5ce-42f8-46bf-b140-61ecd2ed449e  TRYDUXK12903CE0C37   \n",
       "1  B0018ZB6ZO  0164b5ce-42f8-46bf-b140-61ecd2ed449e  TRGWXYX128F426E27F   \n",
       "2  B000003HGR  7fe6e337-9115-3719-855b-0441c42a2c36  TRVMIIJ12903CDBF1D   \n",
       "\n",
       "                         recording_mbid                           artist_mbid  \\\n",
       "0  66dd470f-4c4f-4caa-b8d4-2ebc80a83cb6  7434b85a-4a06-42ba-9e1d-9c568c044842   \n",
       "1  b45aef36-c3a3-42f2-90fb-728e8b3c54a2  7434b85a-4a06-42ba-9e1d-9c568c044842   \n",
       "2  36b15f42-b441-4d64-8ba9-ca264ed1c6f1  1b54e90c-638e-4fdd-a20e-4ab09db9fdaf   \n",
       "\n",
       "               genres  \n",
       "0  Dance & Electronic  \n",
       "1  Dance & Electronic  \n",
       "2    Alternative Rock  "
      ]
     },
     "execution_count": 133,
     "metadata": {},
     "output_type": "execute_result"
    }
   ],
   "source": [
    "df = pd.read_csv(file)\n",
    "df.head(3)"
   ]
  },
  {
   "cell_type": "code",
   "execution_count": 106,
   "id": "507f07a2-72fb-41ff-ae47-bfd576d03ff2",
   "metadata": {},
   "outputs": [
    {
     "data": {
      "text/plain": [
       "Index(['amazon_id', 'buy_after_viewing_amazon_id'], dtype='object')"
      ]
     },
     "execution_count": 106,
     "metadata": {},
     "output_type": "execute_result"
    }
   ],
   "source": [
    "df.columns"
   ]
  },
  {
   "cell_type": "code",
   "execution_count": 107,
   "id": "41586585-48f4-438c-b0d4-fdbdf65255b9",
   "metadata": {},
   "outputs": [
    {
     "data": {
      "text/plain": [
       "(10975, 2)"
      ]
     },
     "execution_count": 107,
     "metadata": {},
     "output_type": "execute_result"
    }
   ],
   "source": [
    "df.shape"
   ]
  },
  {
   "cell_type": "markdown",
   "id": "532801e5-2058-4dfd-89a2-aeb654b87172",
   "metadata": {
    "tags": []
   },
   "source": [
    "#### 7.7 MuMu - Amazon - Metadata and Multi-Labeled Genres"
   ]
  },
  {
   "cell_type": "code",
   "execution_count": 134,
   "id": "74e6ecf2-493d-4fb6-aa39-d09da79d9846",
   "metadata": {},
   "outputs": [
    {
     "data": {
      "text/plain": [
       "'resources/FINAL/MuMu/MuMu_dataset_multi-label.csv'"
      ]
     },
     "execution_count": 134,
     "metadata": {},
     "output_type": "execute_result"
    }
   ],
   "source": [
    "file = mumu_files[6]\n",
    "file"
   ]
  },
  {
   "cell_type": "code",
   "execution_count": 135,
   "id": "e1a581b0-7711-49ba-a40e-884e84f5b4c9",
   "metadata": {},
   "outputs": [
    {
     "data": {
      "text/html": [
       "<div>\n",
       "<style scoped>\n",
       "    .dataframe tbody tr th:only-of-type {\n",
       "        vertical-align: middle;\n",
       "    }\n",
       "\n",
       "    .dataframe tbody tr th {\n",
       "        vertical-align: top;\n",
       "    }\n",
       "\n",
       "    .dataframe thead th {\n",
       "        text-align: right;\n",
       "    }\n",
       "</style>\n",
       "<table border=\"1\" class=\"dataframe\">\n",
       "  <thead>\n",
       "    <tr style=\"text-align: right;\">\n",
       "      <th></th>\n",
       "      <th>amazon_id</th>\n",
       "      <th>album_mbid</th>\n",
       "      <th>MSD_track_id</th>\n",
       "      <th>recording_mbid</th>\n",
       "      <th>artist_mbid</th>\n",
       "      <th>genres</th>\n",
       "    </tr>\n",
       "  </thead>\n",
       "  <tbody>\n",
       "    <tr>\n",
       "      <th>0</th>\n",
       "      <td>B00005YQOV</td>\n",
       "      <td>77944b8c-f753-4c7c-84ba-a48fbf518667</td>\n",
       "      <td>TRJIKJU128F930BF28</td>\n",
       "      <td>68c38213-65ba-4c1e-ac20-76883b512993</td>\n",
       "      <td>0a6f37da-2a2a-4308-896a-7c34b968b0b3</td>\n",
       "      <td>Vocal Jazz,Jazz,Traditional Vocal Pop,Pop,Mode...</td>\n",
       "    </tr>\n",
       "    <tr>\n",
       "      <th>1</th>\n",
       "      <td>B00005YQOV</td>\n",
       "      <td>77944b8c-f753-4c7c-84ba-a48fbf518667</td>\n",
       "      <td>TRLCVKT128F930BF18</td>\n",
       "      <td>f5c25488-4fbc-4ade-9cd4-431ae3fe3737</td>\n",
       "      <td>0a6f37da-2a2a-4308-896a-7c34b968b0b3</td>\n",
       "      <td>Vocal Jazz,Jazz,Traditional Vocal Pop,Pop,Mode...</td>\n",
       "    </tr>\n",
       "    <tr>\n",
       "      <th>2</th>\n",
       "      <td>B00005YQOV</td>\n",
       "      <td>77944b8c-f753-4c7c-84ba-a48fbf518667</td>\n",
       "      <td>TRBQSIG128F930BEFC</td>\n",
       "      <td>e76bbfcc-f94a-425d-bf13-d4e8d32df173</td>\n",
       "      <td>0a6f37da-2a2a-4308-896a-7c34b968b0b3</td>\n",
       "      <td>Vocal Jazz,Jazz,Traditional Vocal Pop,Pop,Mode...</td>\n",
       "    </tr>\n",
       "  </tbody>\n",
       "</table>\n",
       "</div>"
      ],
      "text/plain": [
       "    amazon_id                            album_mbid        MSD_track_id  \\\n",
       "0  B00005YQOV  77944b8c-f753-4c7c-84ba-a48fbf518667  TRJIKJU128F930BF28   \n",
       "1  B00005YQOV  77944b8c-f753-4c7c-84ba-a48fbf518667  TRLCVKT128F930BF18   \n",
       "2  B00005YQOV  77944b8c-f753-4c7c-84ba-a48fbf518667  TRBQSIG128F930BEFC   \n",
       "\n",
       "                         recording_mbid                           artist_mbid  \\\n",
       "0  68c38213-65ba-4c1e-ac20-76883b512993  0a6f37da-2a2a-4308-896a-7c34b968b0b3   \n",
       "1  f5c25488-4fbc-4ade-9cd4-431ae3fe3737  0a6f37da-2a2a-4308-896a-7c34b968b0b3   \n",
       "2  e76bbfcc-f94a-425d-bf13-d4e8d32df173  0a6f37da-2a2a-4308-896a-7c34b968b0b3   \n",
       "\n",
       "                                              genres  \n",
       "0  Vocal Jazz,Jazz,Traditional Vocal Pop,Pop,Mode...  \n",
       "1  Vocal Jazz,Jazz,Traditional Vocal Pop,Pop,Mode...  \n",
       "2  Vocal Jazz,Jazz,Traditional Vocal Pop,Pop,Mode...  "
      ]
     },
     "execution_count": 135,
     "metadata": {},
     "output_type": "execute_result"
    }
   ],
   "source": [
    "df = pd.read_csv(file)\n",
    "df.head(3)"
   ]
  },
  {
   "cell_type": "code",
   "execution_count": 136,
   "id": "63d3d3df-b250-42b5-8451-2959b0393a75",
   "metadata": {},
   "outputs": [
    {
     "data": {
      "text/plain": [
       "Index(['amazon_id', 'album_mbid', 'MSD_track_id', 'recording_mbid',\n",
       "       'artist_mbid', 'genres'],\n",
       "      dtype='object')"
      ]
     },
     "execution_count": 136,
     "metadata": {},
     "output_type": "execute_result"
    }
   ],
   "source": [
    "df.columns"
   ]
  },
  {
   "cell_type": "code",
   "execution_count": 137,
   "id": "d2ada8f9-363c-4823-b93a-acf3ce4446d2",
   "metadata": {},
   "outputs": [
    {
     "data": {
      "text/plain": [
       "(147295, 6)"
      ]
     },
     "execution_count": 137,
     "metadata": {},
     "output_type": "execute_result"
    }
   ],
   "source": [
    "df.shape"
   ]
  },
  {
   "cell_type": "markdown",
   "id": "8ed5b068-a49e-4689-a76a-758c1647b675",
   "metadata": {
    "jp-MarkdownHeadingCollapsed": true,
    "tags": []
   },
   "source": [
    "## 8. SMPD\n",
    "\n",
    "The [Spotify Million Playlist Dataset](https://www.aicrowd.com/challenges/spotify-million-playlist-dataset-challengehttps://www.aicrowd.com/challenges/spotify-million-playlist-dataset-challenge) contains, as the name says, a million playlists. The extracted info was the playlist's name, the number of followers, the total number of tracks, and a list of the songs that are part of the intersection."
   ]
  },
  {
   "cell_type": "code",
   "execution_count": 144,
   "id": "596283c9-6f47-4f7b-ba78-ba6086169bc1",
   "metadata": {},
   "outputs": [
    {
     "data": {
      "text/plain": [
       "['resources/FINAL/SMPD/smpd_playlist_info.csv',\n",
       " 'resources/FINAL/SMPD/smpd_playlistID_trackID.csv']"
      ]
     },
     "execution_count": 144,
     "metadata": {},
     "output_type": "execute_result"
    }
   ],
   "source": [
    "smpd_files = [file for file in files if \"SMPD\" in file]\n",
    "smpd_files"
   ]
  },
  {
   "cell_type": "markdown",
   "id": "08bda1e3-a21f-40d8-b4a8-74e303be74b4",
   "metadata": {
    "tags": []
   },
   "source": [
    "#### 8.1 SMPD Playlist Info"
   ]
  },
  {
   "cell_type": "code",
   "execution_count": 147,
   "id": "88da1fe2-b144-4aa1-af05-4608caf244e2",
   "metadata": {
    "tags": []
   },
   "outputs": [
    {
     "data": {
      "text/plain": [
       "'resources/FINAL/SMPD/smpd_playlist_info.csv'"
      ]
     },
     "execution_count": 147,
     "metadata": {},
     "output_type": "execute_result"
    }
   ],
   "source": [
    "file = smpd_files[0]\n",
    "file"
   ]
  },
  {
   "cell_type": "code",
   "execution_count": 148,
   "id": "3c75c95d-f38e-4415-a510-30130d3791b1",
   "metadata": {},
   "outputs": [
    {
     "data": {
      "text/html": [
       "<div>\n",
       "<style scoped>\n",
       "    .dataframe tbody tr th:only-of-type {\n",
       "        vertical-align: middle;\n",
       "    }\n",
       "\n",
       "    .dataframe tbody tr th {\n",
       "        vertical-align: top;\n",
       "    }\n",
       "\n",
       "    .dataframe thead th {\n",
       "        text-align: right;\n",
       "    }\n",
       "</style>\n",
       "<table border=\"1\" class=\"dataframe\">\n",
       "  <thead>\n",
       "    <tr style=\"text-align: right;\">\n",
       "      <th></th>\n",
       "      <th>playlist_id</th>\n",
       "      <th>playlist_name</th>\n",
       "      <th>playlist_followers</th>\n",
       "      <th>playlist_num_tracks</th>\n",
       "    </tr>\n",
       "  </thead>\n",
       "  <tbody>\n",
       "    <tr>\n",
       "      <th>0</th>\n",
       "      <td>698001</td>\n",
       "      <td>Slow Jams</td>\n",
       "      <td>9</td>\n",
       "      <td>1</td>\n",
       "    </tr>\n",
       "    <tr>\n",
       "      <th>1</th>\n",
       "      <td>698002</td>\n",
       "      <td>Español</td>\n",
       "      <td>21</td>\n",
       "      <td>1</td>\n",
       "    </tr>\n",
       "    <tr>\n",
       "      <th>2</th>\n",
       "      <td>698003</td>\n",
       "      <td>finals</td>\n",
       "      <td>50</td>\n",
       "      <td>1</td>\n",
       "    </tr>\n",
       "  </tbody>\n",
       "</table>\n",
       "</div>"
      ],
      "text/plain": [
       "   playlist_id playlist_name  playlist_followers  playlist_num_tracks\n",
       "0       698001     Slow Jams                   9                    1\n",
       "1       698002       Español                  21                    1\n",
       "2       698003        finals                  50                    1"
      ]
     },
     "execution_count": 148,
     "metadata": {},
     "output_type": "execute_result"
    }
   ],
   "source": [
    "df = pd.read_csv(file)\n",
    "df.head(3)"
   ]
  },
  {
   "cell_type": "code",
   "execution_count": 149,
   "id": "98ff3bbe-fa1c-4834-9581-e377e9d92ee7",
   "metadata": {},
   "outputs": [
    {
     "data": {
      "text/plain": [
       "Index(['playlist_id', 'playlist_name', 'playlist_followers',\n",
       "       'playlist_num_tracks'],\n",
       "      dtype='object')"
      ]
     },
     "execution_count": 149,
     "metadata": {},
     "output_type": "execute_result"
    }
   ],
   "source": [
    "df.columns"
   ]
  },
  {
   "cell_type": "code",
   "execution_count": 150,
   "id": "3e9a2230-5b6d-43f6-adad-12ba1707c694",
   "metadata": {},
   "outputs": [
    {
     "data": {
      "text/plain": [
       "(559185, 4)"
      ]
     },
     "execution_count": 150,
     "metadata": {},
     "output_type": "execute_result"
    }
   ],
   "source": [
    "df.shape"
   ]
  },
  {
   "cell_type": "markdown",
   "id": "1aba6208-fcda-4307-b8e0-1db86668757d",
   "metadata": {},
   "source": [
    "#### 8.2 SMPD - Tracks-Playlists"
   ]
  },
  {
   "cell_type": "code",
   "execution_count": 151,
   "id": "645d6d1d-0217-4664-abcd-765ccd7ef1ac",
   "metadata": {},
   "outputs": [
    {
     "data": {
      "text/plain": [
       "'resources/FINAL/SMPD/smpd_playlistID_trackID.csv'"
      ]
     },
     "execution_count": 151,
     "metadata": {},
     "output_type": "execute_result"
    }
   ],
   "source": [
    "file = smpd_files[1]\n",
    "file"
   ]
  },
  {
   "cell_type": "code",
   "execution_count": 152,
   "id": "c614a20d-4578-428d-a3f6-e814b20f1772",
   "metadata": {},
   "outputs": [
    {
     "data": {
      "text/html": [
       "<div>\n",
       "<style scoped>\n",
       "    .dataframe tbody tr th:only-of-type {\n",
       "        vertical-align: middle;\n",
       "    }\n",
       "\n",
       "    .dataframe tbody tr th {\n",
       "        vertical-align: top;\n",
       "    }\n",
       "\n",
       "    .dataframe thead th {\n",
       "        text-align: right;\n",
       "    }\n",
       "</style>\n",
       "<table border=\"1\" class=\"dataframe\">\n",
       "  <thead>\n",
       "    <tr style=\"text-align: right;\">\n",
       "      <th></th>\n",
       "      <th>playlist_id</th>\n",
       "      <th>track_id</th>\n",
       "    </tr>\n",
       "  </thead>\n",
       "  <tbody>\n",
       "    <tr>\n",
       "      <th>0</th>\n",
       "      <td>961001</td>\n",
       "      <td>6183</td>\n",
       "    </tr>\n",
       "    <tr>\n",
       "      <th>1</th>\n",
       "      <td>961001</td>\n",
       "      <td>7198</td>\n",
       "    </tr>\n",
       "    <tr>\n",
       "      <th>2</th>\n",
       "      <td>961001</td>\n",
       "      <td>2957</td>\n",
       "    </tr>\n",
       "  </tbody>\n",
       "</table>\n",
       "</div>"
      ],
      "text/plain": [
       "   playlist_id  track_id\n",
       "0       961001      6183\n",
       "1       961001      7198\n",
       "2       961001      2957"
      ]
     },
     "execution_count": 152,
     "metadata": {},
     "output_type": "execute_result"
    }
   ],
   "source": [
    "df = pd.read_csv(file)\n",
    "df.head(3)"
   ]
  },
  {
   "cell_type": "code",
   "execution_count": 153,
   "id": "5fa3f50d-6ac2-4ced-970c-57d741f9df27",
   "metadata": {},
   "outputs": [
    {
     "data": {
      "text/plain": [
       "Index(['playlist_id', 'track_id'], dtype='object')"
      ]
     },
     "execution_count": 153,
     "metadata": {},
     "output_type": "execute_result"
    }
   ],
   "source": [
    "df.columns"
   ]
  },
  {
   "cell_type": "code",
   "execution_count": 154,
   "id": "110e2b49-df0a-433a-ade4-035f4fa518fa",
   "metadata": {},
   "outputs": [
    {
     "data": {
      "text/plain": [
       "(3764767, 2)"
      ]
     },
     "execution_count": 154,
     "metadata": {},
     "output_type": "execute_result"
    }
   ],
   "source": [
    "df.shape"
   ]
  },
  {
   "cell_type": "markdown",
   "id": "e7671652-662d-425e-b842-dcbef4cc6967",
   "metadata": {
    "jp-MarkdownHeadingCollapsed": true,
    "tags": []
   },
   "source": [
    "## 9. Spotify\n",
    "This is information extracted from the Spotify API. It contains a big deal of features, such as danceability, energy, key, tempo and valence. It also contains a more detailed analysis of the content of the song."
   ]
  },
  {
   "cell_type": "code",
   "execution_count": 161,
   "id": "af81d46f-6ca3-4fb1-833a-7cb5a82da73e",
   "metadata": {},
   "outputs": [
    {
     "data": {
      "text/plain": [
       "['resources/FINAL/Spotify/spotify_features.csv',\n",
       " 'resources/FINAL/Spotify/spotify_analysis.csv']"
      ]
     },
     "execution_count": 161,
     "metadata": {},
     "output_type": "execute_result"
    }
   ],
   "source": [
    "spotify_files = [file for file in files if \"Spotify/\" in file]\n",
    "spotify_files"
   ]
  },
  {
   "cell_type": "markdown",
   "id": "37e974da-db8a-4a94-a3d6-435cf69e70ed",
   "metadata": {
    "tags": []
   },
   "source": [
    "#### 9.1 Spotify Features"
   ]
  },
  {
   "cell_type": "code",
   "execution_count": 162,
   "id": "857493d9-981b-4bab-984c-14db9d15c464",
   "metadata": {
    "tags": []
   },
   "outputs": [
    {
     "data": {
      "text/plain": [
       "'resources/FINAL/Spotify/spotify_features.csv'"
      ]
     },
     "execution_count": 162,
     "metadata": {},
     "output_type": "execute_result"
    }
   ],
   "source": [
    "file = spotify_files[0]\n",
    "file"
   ]
  },
  {
   "cell_type": "code",
   "execution_count": 163,
   "id": "9814d514-d899-409f-8e51-839b25003956",
   "metadata": {},
   "outputs": [
    {
     "data": {
      "text/html": [
       "<div>\n",
       "<style scoped>\n",
       "    .dataframe tbody tr th:only-of-type {\n",
       "        vertical-align: middle;\n",
       "    }\n",
       "\n",
       "    .dataframe tbody tr th {\n",
       "        vertical-align: top;\n",
       "    }\n",
       "\n",
       "    .dataframe thead th {\n",
       "        text-align: right;\n",
       "    }\n",
       "</style>\n",
       "<table border=\"1\" class=\"dataframe\">\n",
       "  <thead>\n",
       "    <tr style=\"text-align: right;\">\n",
       "      <th></th>\n",
       "      <th>danceability</th>\n",
       "      <th>energy</th>\n",
       "      <th>key</th>\n",
       "      <th>loudness</th>\n",
       "      <th>mode</th>\n",
       "      <th>speechiness</th>\n",
       "      <th>acousticness</th>\n",
       "      <th>instrumentalness</th>\n",
       "      <th>liveness</th>\n",
       "      <th>valence</th>\n",
       "      <th>tempo</th>\n",
       "      <th>type</th>\n",
       "      <th>id</th>\n",
       "      <th>uri</th>\n",
       "      <th>track_href</th>\n",
       "      <th>analysis_url</th>\n",
       "      <th>duration_ms</th>\n",
       "      <th>time_signature</th>\n",
       "      <th>lfm_spotify_uri</th>\n",
       "    </tr>\n",
       "  </thead>\n",
       "  <tbody>\n",
       "    <tr>\n",
       "      <th>0</th>\n",
       "      <td>0.409</td>\n",
       "      <td>0.783</td>\n",
       "      <td>6</td>\n",
       "      <td>-5.083</td>\n",
       "      <td>0</td>\n",
       "      <td>0.0731</td>\n",
       "      <td>0.000422</td>\n",
       "      <td>0.000354</td>\n",
       "      <td>0.0664</td>\n",
       "      <td>0.313</td>\n",
       "      <td>145.541</td>\n",
       "      <td>audio_features</td>\n",
       "      <td>3pO37BXsjMC2wApALxGbuB</td>\n",
       "      <td>spotify:track:3pO37BXsjMC2wApALxGbuB</td>\n",
       "      <td>https://api.spotify.com/v1/tracks/3pO37BXsjMC2...</td>\n",
       "      <td>https://api.spotify.com/v1/audio-analysis/3pO3...</td>\n",
       "      <td>229867</td>\n",
       "      <td>4</td>\n",
       "      <td>3pO37BXsjMC2wApALxGbuB</td>\n",
       "    </tr>\n",
       "    <tr>\n",
       "      <th>1</th>\n",
       "      <td>0.837</td>\n",
       "      <td>0.380</td>\n",
       "      <td>7</td>\n",
       "      <td>-13.341</td>\n",
       "      <td>0</td>\n",
       "      <td>0.0640</td>\n",
       "      <td>0.541000</td>\n",
       "      <td>0.007890</td>\n",
       "      <td>0.1980</td>\n",
       "      <td>0.892</td>\n",
       "      <td>104.995</td>\n",
       "      <td>audio_features</td>\n",
       "      <td>1LOZMYF5s8qhW7Rv4w2gun</td>\n",
       "      <td>spotify:track:1LOZMYF5s8qhW7Rv4w2gun</td>\n",
       "      <td>https://api.spotify.com/v1/tracks/1LOZMYF5s8qh...</td>\n",
       "      <td>https://api.spotify.com/v1/audio-analysis/1LOZ...</td>\n",
       "      <td>267947</td>\n",
       "      <td>4</td>\n",
       "      <td>1LOZMYF5s8qhW7Rv4w2gun</td>\n",
       "    </tr>\n",
       "    <tr>\n",
       "      <th>2</th>\n",
       "      <td>0.548</td>\n",
       "      <td>0.877</td>\n",
       "      <td>7</td>\n",
       "      <td>-4.458</td>\n",
       "      <td>1</td>\n",
       "      <td>0.1240</td>\n",
       "      <td>0.043700</td>\n",
       "      <td>0.000013</td>\n",
       "      <td>0.0921</td>\n",
       "      <td>0.466</td>\n",
       "      <td>148.799</td>\n",
       "      <td>audio_features</td>\n",
       "      <td>1QQgSUKCG8GakzMOwi4lFS</td>\n",
       "      <td>spotify:track:1QQgSUKCG8GakzMOwi4lFS</td>\n",
       "      <td>https://api.spotify.com/v1/tracks/1QQgSUKCG8Ga...</td>\n",
       "      <td>https://api.spotify.com/v1/audio-analysis/1QQg...</td>\n",
       "      <td>318853</td>\n",
       "      <td>4</td>\n",
       "      <td>1QQgSUKCG8GakzMOwi4lFS</td>\n",
       "    </tr>\n",
       "  </tbody>\n",
       "</table>\n",
       "</div>"
      ],
      "text/plain": [
       "   danceability  energy  key  loudness  mode  speechiness  acousticness  \\\n",
       "0         0.409   0.783    6    -5.083     0       0.0731      0.000422   \n",
       "1         0.837   0.380    7   -13.341     0       0.0640      0.541000   \n",
       "2         0.548   0.877    7    -4.458     1       0.1240      0.043700   \n",
       "\n",
       "   instrumentalness  liveness  valence    tempo            type  \\\n",
       "0          0.000354    0.0664    0.313  145.541  audio_features   \n",
       "1          0.007890    0.1980    0.892  104.995  audio_features   \n",
       "2          0.000013    0.0921    0.466  148.799  audio_features   \n",
       "\n",
       "                       id                                   uri  \\\n",
       "0  3pO37BXsjMC2wApALxGbuB  spotify:track:3pO37BXsjMC2wApALxGbuB   \n",
       "1  1LOZMYF5s8qhW7Rv4w2gun  spotify:track:1LOZMYF5s8qhW7Rv4w2gun   \n",
       "2  1QQgSUKCG8GakzMOwi4lFS  spotify:track:1QQgSUKCG8GakzMOwi4lFS   \n",
       "\n",
       "                                          track_href  \\\n",
       "0  https://api.spotify.com/v1/tracks/3pO37BXsjMC2...   \n",
       "1  https://api.spotify.com/v1/tracks/1LOZMYF5s8qh...   \n",
       "2  https://api.spotify.com/v1/tracks/1QQgSUKCG8Ga...   \n",
       "\n",
       "                                        analysis_url  duration_ms  \\\n",
       "0  https://api.spotify.com/v1/audio-analysis/3pO3...       229867   \n",
       "1  https://api.spotify.com/v1/audio-analysis/1LOZ...       267947   \n",
       "2  https://api.spotify.com/v1/audio-analysis/1QQg...       318853   \n",
       "\n",
       "   time_signature         lfm_spotify_uri  \n",
       "0               4  3pO37BXsjMC2wApALxGbuB  \n",
       "1               4  1LOZMYF5s8qhW7Rv4w2gun  \n",
       "2               4  1QQgSUKCG8GakzMOwi4lFS  "
      ]
     },
     "execution_count": 163,
     "metadata": {},
     "output_type": "execute_result"
    }
   ],
   "source": [
    "df = pd.read_csv(file)\n",
    "df.head(3)"
   ]
  },
  {
   "cell_type": "code",
   "execution_count": 164,
   "id": "603b31ff-9a42-4a89-b316-b16bafee3b29",
   "metadata": {
    "tags": []
   },
   "outputs": [
    {
     "data": {
      "text/plain": [
       "Index(['danceability', 'energy', 'key', 'loudness', 'mode', 'speechiness',\n",
       "       'acousticness', 'instrumentalness', 'liveness', 'valence', 'tempo',\n",
       "       'type', 'id', 'uri', 'track_href', 'analysis_url', 'duration_ms',\n",
       "       'time_signature', 'lfm_spotify_uri'],\n",
       "      dtype='object')"
      ]
     },
     "execution_count": 164,
     "metadata": {},
     "output_type": "execute_result"
    }
   ],
   "source": [
    "df.columns"
   ]
  },
  {
   "cell_type": "code",
   "execution_count": 165,
   "id": "f35dc0ad-06a6-4263-b52b-a957b7f20892",
   "metadata": {},
   "outputs": [
    {
     "data": {
      "text/plain": [
       "(8497, 19)"
      ]
     },
     "execution_count": 165,
     "metadata": {},
     "output_type": "execute_result"
    }
   ],
   "source": [
    "df.shape"
   ]
  },
  {
   "cell_type": "markdown",
   "id": "86be50b1-e530-4e30-9cdb-99f5e05205cb",
   "metadata": {},
   "source": [
    "#### 9.2 Spotify - Detailed Song Analysis"
   ]
  },
  {
   "cell_type": "code",
   "execution_count": 170,
   "id": "0f52dcc4-8b3f-4f0f-94c3-69690a3f596c",
   "metadata": {},
   "outputs": [
    {
     "data": {
      "text/plain": [
       "'resources/FINAL/Spotify/spotify_analysis.csv'"
      ]
     },
     "execution_count": 170,
     "metadata": {},
     "output_type": "execute_result"
    }
   ],
   "source": [
    "file = spotify_files[1]\n",
    "file"
   ]
  },
  {
   "cell_type": "code",
   "execution_count": 167,
   "id": "8e0688bd-788f-4059-bb22-616f72113b17",
   "metadata": {},
   "outputs": [
    {
     "data": {
      "text/html": [
       "<div>\n",
       "<style scoped>\n",
       "    .dataframe tbody tr th:only-of-type {\n",
       "        vertical-align: middle;\n",
       "    }\n",
       "\n",
       "    .dataframe tbody tr th {\n",
       "        vertical-align: top;\n",
       "    }\n",
       "\n",
       "    .dataframe thead th {\n",
       "        text-align: right;\n",
       "    }\n",
       "</style>\n",
       "<table border=\"1\" class=\"dataframe\">\n",
       "  <thead>\n",
       "    <tr style=\"text-align: right;\">\n",
       "      <th></th>\n",
       "      <th>start</th>\n",
       "      <th>duration</th>\n",
       "      <th>confidence</th>\n",
       "      <th>loudness</th>\n",
       "      <th>tempo</th>\n",
       "      <th>tempo_confidence</th>\n",
       "      <th>key</th>\n",
       "      <th>key_confidence</th>\n",
       "      <th>mode</th>\n",
       "      <th>mode_confidence</th>\n",
       "      <th>time_signature</th>\n",
       "      <th>time_signature_confidence</th>\n",
       "      <th>lfm_spotify_uri</th>\n",
       "    </tr>\n",
       "  </thead>\n",
       "  <tbody>\n",
       "    <tr>\n",
       "      <th>0</th>\n",
       "      <td>0.00000</td>\n",
       "      <td>13.65422</td>\n",
       "      <td>1.000</td>\n",
       "      <td>-12.152</td>\n",
       "      <td>147.905</td>\n",
       "      <td>0.328</td>\n",
       "      <td>6</td>\n",
       "      <td>0.576</td>\n",
       "      <td>0</td>\n",
       "      <td>0.644</td>\n",
       "      <td>4</td>\n",
       "      <td>1.0</td>\n",
       "      <td>3pO37BXsjMC2wApALxGbuB</td>\n",
       "    </tr>\n",
       "    <tr>\n",
       "      <th>1</th>\n",
       "      <td>13.65422</td>\n",
       "      <td>58.16630</td>\n",
       "      <td>1.000</td>\n",
       "      <td>-6.114</td>\n",
       "      <td>147.457</td>\n",
       "      <td>0.393</td>\n",
       "      <td>6</td>\n",
       "      <td>0.627</td>\n",
       "      <td>0</td>\n",
       "      <td>0.781</td>\n",
       "      <td>4</td>\n",
       "      <td>1.0</td>\n",
       "      <td>3pO37BXsjMC2wApALxGbuB</td>\n",
       "    </tr>\n",
       "    <tr>\n",
       "      <th>2</th>\n",
       "      <td>71.82053</td>\n",
       "      <td>26.80850</td>\n",
       "      <td>0.123</td>\n",
       "      <td>-4.192</td>\n",
       "      <td>147.186</td>\n",
       "      <td>0.130</td>\n",
       "      <td>6</td>\n",
       "      <td>0.331</td>\n",
       "      <td>0</td>\n",
       "      <td>0.701</td>\n",
       "      <td>4</td>\n",
       "      <td>1.0</td>\n",
       "      <td>3pO37BXsjMC2wApALxGbuB</td>\n",
       "    </tr>\n",
       "  </tbody>\n",
       "</table>\n",
       "</div>"
      ],
      "text/plain": [
       "      start  duration  confidence  loudness    tempo  tempo_confidence  key  \\\n",
       "0   0.00000  13.65422       1.000   -12.152  147.905             0.328    6   \n",
       "1  13.65422  58.16630       1.000    -6.114  147.457             0.393    6   \n",
       "2  71.82053  26.80850       0.123    -4.192  147.186             0.130    6   \n",
       "\n",
       "   key_confidence  mode  mode_confidence  time_signature  \\\n",
       "0           0.576     0            0.644               4   \n",
       "1           0.627     0            0.781               4   \n",
       "2           0.331     0            0.701               4   \n",
       "\n",
       "   time_signature_confidence         lfm_spotify_uri  \n",
       "0                        1.0  3pO37BXsjMC2wApALxGbuB  \n",
       "1                        1.0  3pO37BXsjMC2wApALxGbuB  \n",
       "2                        1.0  3pO37BXsjMC2wApALxGbuB  "
      ]
     },
     "execution_count": 167,
     "metadata": {},
     "output_type": "execute_result"
    }
   ],
   "source": [
    "df = pd.read_csv(file)\n",
    "df.head(3)\n"
   ]
  },
  {
   "cell_type": "code",
   "execution_count": 171,
   "id": "53540928-da00-455e-94a4-0aa82c6f114b",
   "metadata": {
    "tags": []
   },
   "outputs": [
    {
     "data": {
      "text/plain": [
       "Index(['start', 'duration', 'confidence', 'loudness', 'tempo',\n",
       "       'tempo_confidence', 'key', 'key_confidence', 'mode', 'mode_confidence',\n",
       "       'time_signature', 'time_signature_confidence', 'lfm_spotify_uri'],\n",
       "      dtype='object')"
      ]
     },
     "execution_count": 171,
     "metadata": {},
     "output_type": "execute_result"
    }
   ],
   "source": [
    "df.columns"
   ]
  },
  {
   "cell_type": "code",
   "execution_count": 172,
   "id": "8867b551-3964-4c43-8b71-d250c09fe704",
   "metadata": {},
   "outputs": [
    {
     "data": {
      "text/plain": [
       "(90280, 13)"
      ]
     },
     "execution_count": 172,
     "metadata": {},
     "output_type": "execute_result"
    }
   ],
   "source": [
    "df.shape"
   ]
  },
  {
   "cell_type": "markdown",
   "id": "4d165381-06cd-4266-a086-849b8d65d392",
   "metadata": {
    "jp-MarkdownHeadingCollapsed": true,
    "tags": []
   },
   "source": [
    "## 10. Spotify Playlists (SP)\n",
    "This list of spotify playlists by [Eva Zangerle](https://evazangerle.at/publication/pichl-ijmdem-2017/pichl-ijmdem-2017.pdfhttps://evazangerle.at/publication/pichl-ijmdem-2017/pichl-ijmdem-2017.pdf) contains also some information on spotify playlists, however it includes user id's as well."
   ]
  },
  {
   "cell_type": "code",
   "execution_count": 173,
   "id": "a3c15432-3352-417e-b219-25dd646bfc37",
   "metadata": {},
   "outputs": [
    {
     "data": {
      "text/plain": [
       "['resources/FINAL/SpotifyPlaylists/user_count.csv',\n",
       " 'resources/FINAL/SpotifyPlaylists/sp_data.csv',\n",
       " 'resources/FINAL/SpotifyPlaylists/track_count.csv',\n",
       " 'resources/FINAL/SpotifyPlaylists/playlist_count.csv',\n",
       " 'resources/FINAL/SpotifyPlaylists/artist_count.csv']"
      ]
     },
     "execution_count": 173,
     "metadata": {},
     "output_type": "execute_result"
    }
   ],
   "source": [
    "sp_files = [file for file in files if \"SpotifyPlaylist\" in file]\n",
    "sp_files"
   ]
  },
  {
   "cell_type": "markdown",
   "id": "99bb88be-eafe-406b-a449-e91452e1d124",
   "metadata": {
    "tags": []
   },
   "source": [
    "#### 10.1 SP - User Count"
   ]
  },
  {
   "cell_type": "code",
   "execution_count": 176,
   "id": "10bcb1ca-a40a-4005-b292-54618b072a83",
   "metadata": {
    "tags": []
   },
   "outputs": [
    {
     "data": {
      "text/plain": [
       "'resources/FINAL/SpotifyPlaylists/user_count.csv'"
      ]
     },
     "execution_count": 176,
     "metadata": {},
     "output_type": "execute_result"
    }
   ],
   "source": [
    "file = sp_files[0]\n",
    "file"
   ]
  },
  {
   "cell_type": "code",
   "execution_count": 177,
   "id": "3cd2dea4-3acb-44e2-a535-9b4fbf71a291",
   "metadata": {},
   "outputs": [
    {
     "data": {
      "text/html": [
       "<div>\n",
       "<style scoped>\n",
       "    .dataframe tbody tr th:only-of-type {\n",
       "        vertical-align: middle;\n",
       "    }\n",
       "\n",
       "    .dataframe tbody tr th {\n",
       "        vertical-align: top;\n",
       "    }\n",
       "\n",
       "    .dataframe thead th {\n",
       "        text-align: right;\n",
       "    }\n",
       "</style>\n",
       "<table border=\"1\" class=\"dataframe\">\n",
       "  <thead>\n",
       "    <tr style=\"text-align: right;\">\n",
       "      <th></th>\n",
       "      <th>user</th>\n",
       "      <th>counts</th>\n",
       "    </tr>\n",
       "  </thead>\n",
       "  <tbody>\n",
       "    <tr>\n",
       "      <th>0</th>\n",
       "      <td>9cc0cfd4d7d7885102480dd99e7a90d6</td>\n",
       "      <td>104</td>\n",
       "    </tr>\n",
       "    <tr>\n",
       "      <th>1</th>\n",
       "      <td>07f0fc3be95dcd878966b1f9572ff670</td>\n",
       "      <td>1486</td>\n",
       "    </tr>\n",
       "    <tr>\n",
       "      <th>2</th>\n",
       "      <td>944c80d26922ae634d6ce445b1fdff7f</td>\n",
       "      <td>961</td>\n",
       "    </tr>\n",
       "  </tbody>\n",
       "</table>\n",
       "</div>"
      ],
      "text/plain": [
       "                               user  counts\n",
       "0  9cc0cfd4d7d7885102480dd99e7a90d6     104\n",
       "1  07f0fc3be95dcd878966b1f9572ff670    1486\n",
       "2  944c80d26922ae634d6ce445b1fdff7f     961"
      ]
     },
     "execution_count": 177,
     "metadata": {},
     "output_type": "execute_result"
    }
   ],
   "source": [
    "df = pd.read_csv(file)\n",
    "df.head(3)"
   ]
  },
  {
   "cell_type": "code",
   "execution_count": 178,
   "id": "f4e4e76c-5665-4975-afea-59c0d61aef2a",
   "metadata": {
    "tags": []
   },
   "outputs": [
    {
     "data": {
      "text/plain": [
       "Index(['user', 'counts'], dtype='object')"
      ]
     },
     "execution_count": 178,
     "metadata": {},
     "output_type": "execute_result"
    }
   ],
   "source": [
    "df.columns"
   ]
  },
  {
   "cell_type": "code",
   "execution_count": 179,
   "id": "7fa656cc-c1c0-42c3-a0d5-712f6d53557a",
   "metadata": {},
   "outputs": [
    {
     "data": {
      "text/plain": [
       "(15918, 2)"
      ]
     },
     "execution_count": 179,
     "metadata": {},
     "output_type": "execute_result"
    }
   ],
   "source": [
    "df.shape"
   ]
  },
  {
   "cell_type": "markdown",
   "id": "8f6cab19-8787-4964-8c9f-34c41893e612",
   "metadata": {
    "tags": []
   },
   "source": [
    "#### 10.2 SP - Tracks - Playlist Names - UserID"
   ]
  },
  {
   "cell_type": "code",
   "execution_count": 191,
   "id": "875c626d-8d96-42a8-bf5d-94274d0e1123",
   "metadata": {},
   "outputs": [
    {
     "data": {
      "text/plain": [
       "'resources/FINAL/SpotifyPlaylists/sp_data.csv'"
      ]
     },
     "execution_count": 191,
     "metadata": {},
     "output_type": "execute_result"
    }
   ],
   "source": [
    "file = sp_files[1]\n",
    "file"
   ]
  },
  {
   "cell_type": "code",
   "execution_count": 192,
   "id": "42b2aecc-9e6c-4a6f-95ec-846098dd4daa",
   "metadata": {},
   "outputs": [
    {
     "data": {
      "text/html": [
       "<div>\n",
       "<style scoped>\n",
       "    .dataframe tbody tr th:only-of-type {\n",
       "        vertical-align: middle;\n",
       "    }\n",
       "\n",
       "    .dataframe tbody tr th {\n",
       "        vertical-align: top;\n",
       "    }\n",
       "\n",
       "    .dataframe thead th {\n",
       "        text-align: right;\n",
       "    }\n",
       "</style>\n",
       "<table border=\"1\" class=\"dataframe\">\n",
       "  <thead>\n",
       "    <tr style=\"text-align: right;\">\n",
       "      <th></th>\n",
       "      <th>Artist</th>\n",
       "      <th>Track</th>\n",
       "      <th>Playlist</th>\n",
       "      <th>User</th>\n",
       "    </tr>\n",
       "  </thead>\n",
       "  <tbody>\n",
       "    <tr>\n",
       "      <th>0</th>\n",
       "      <td>Elvis Costello</td>\n",
       "      <td>Alison</td>\n",
       "      <td>HARD ROCK 2010</td>\n",
       "      <td>9cc0cfd4d7d7885102480dd99e7a90d6</td>\n",
       "    </tr>\n",
       "    <tr>\n",
       "      <th>1</th>\n",
       "      <td>Crowded House</td>\n",
       "      <td>Don't Dream It's Over</td>\n",
       "      <td>HARD ROCK 2010</td>\n",
       "      <td>9cc0cfd4d7d7885102480dd99e7a90d6</td>\n",
       "    </tr>\n",
       "    <tr>\n",
       "      <th>2</th>\n",
       "      <td>Joshua Radin</td>\n",
       "      <td>Winter</td>\n",
       "      <td>HARD ROCK 2010</td>\n",
       "      <td>9cc0cfd4d7d7885102480dd99e7a90d6</td>\n",
       "    </tr>\n",
       "  </tbody>\n",
       "</table>\n",
       "</div>"
      ],
      "text/plain": [
       "           Artist                  Track        Playlist  \\\n",
       "0  Elvis Costello                 Alison  HARD ROCK 2010   \n",
       "1   Crowded House  Don't Dream It's Over  HARD ROCK 2010   \n",
       "2    Joshua Radin                 Winter  HARD ROCK 2010   \n",
       "\n",
       "                               User  \n",
       "0  9cc0cfd4d7d7885102480dd99e7a90d6  \n",
       "1  9cc0cfd4d7d7885102480dd99e7a90d6  \n",
       "2  9cc0cfd4d7d7885102480dd99e7a90d6  "
      ]
     },
     "execution_count": 192,
     "metadata": {},
     "output_type": "execute_result"
    }
   ],
   "source": [
    "df = pd.read_csv(file)\n",
    "df.head(3)"
   ]
  },
  {
   "cell_type": "code",
   "execution_count": 193,
   "id": "371155d0-f5f2-416e-858d-1101c47ec506",
   "metadata": {
    "tags": []
   },
   "outputs": [
    {
     "data": {
      "text/plain": [
       "Index(['Artist', 'Track', 'Playlist', 'User'], dtype='object')"
      ]
     },
     "execution_count": 193,
     "metadata": {},
     "output_type": "execute_result"
    }
   ],
   "source": [
    "df.columns"
   ]
  },
  {
   "cell_type": "code",
   "execution_count": 194,
   "id": "48f64e89-f3fe-4ac8-bab2-8680fbdd2734",
   "metadata": {},
   "outputs": [
    {
     "data": {
      "text/plain": [
       "(617153, 4)"
      ]
     },
     "execution_count": 194,
     "metadata": {},
     "output_type": "execute_result"
    }
   ],
   "source": [
    "df.shape"
   ]
  },
  {
   "cell_type": "markdown",
   "id": "5ddec542-5f34-4523-b80c-07aee3ae63d4",
   "metadata": {
    "tags": []
   },
   "source": [
    "#### 10.3 SP - Track Count"
   ]
  },
  {
   "cell_type": "code",
   "execution_count": 195,
   "id": "c03aedae-645b-4dcd-bb8c-3bcc0cb6e5be",
   "metadata": {},
   "outputs": [
    {
     "data": {
      "text/plain": [
       "'resources/FINAL/SpotifyPlaylists/track_count.csv'"
      ]
     },
     "execution_count": 195,
     "metadata": {},
     "output_type": "execute_result"
    }
   ],
   "source": [
    "file = sp_files[2]\n",
    "file"
   ]
  },
  {
   "cell_type": "code",
   "execution_count": 196,
   "id": "5811aec9-6da2-4093-9e20-e4cd065ba33e",
   "metadata": {},
   "outputs": [
    {
     "data": {
      "text/html": [
       "<div>\n",
       "<style scoped>\n",
       "    .dataframe tbody tr th:only-of-type {\n",
       "        vertical-align: middle;\n",
       "    }\n",
       "\n",
       "    .dataframe tbody tr th {\n",
       "        vertical-align: top;\n",
       "    }\n",
       "\n",
       "    .dataframe thead th {\n",
       "        text-align: right;\n",
       "    }\n",
       "</style>\n",
       "<table border=\"1\" class=\"dataframe\">\n",
       "  <thead>\n",
       "    <tr style=\"text-align: right;\">\n",
       "      <th></th>\n",
       "      <th>track</th>\n",
       "      <th>counts</th>\n",
       "    </tr>\n",
       "  </thead>\n",
       "  <tbody>\n",
       "    <tr>\n",
       "      <th>0</th>\n",
       "      <td>(The Angels Wanna Wear My) Red Shoes - Elvis C...</td>\n",
       "      <td>76</td>\n",
       "    </tr>\n",
       "    <tr>\n",
       "      <th>1</th>\n",
       "      <td>(What's So Funny 'Bout) Peace, Love And Unders...</td>\n",
       "      <td>85</td>\n",
       "    </tr>\n",
       "    <tr>\n",
       "      <th>2</th>\n",
       "      <td>7 Years Too Late - Tiffany Page</td>\n",
       "      <td>1</td>\n",
       "    </tr>\n",
       "  </tbody>\n",
       "</table>\n",
       "</div>"
      ],
      "text/plain": [
       "                                               track  counts\n",
       "0  (The Angels Wanna Wear My) Red Shoes - Elvis C...      76\n",
       "1  (What's So Funny 'Bout) Peace, Love And Unders...      85\n",
       "2                    7 Years Too Late - Tiffany Page       1"
      ]
     },
     "execution_count": 196,
     "metadata": {},
     "output_type": "execute_result"
    }
   ],
   "source": [
    "df = pd.read_csv(file)\n",
    "df.head(3)"
   ]
  },
  {
   "cell_type": "code",
   "execution_count": 197,
   "id": "9e9f2b1f-658a-48c4-8c0d-411ce577eabb",
   "metadata": {
    "tags": []
   },
   "outputs": [
    {
     "data": {
      "text/plain": [
       "Index(['track', 'counts'], dtype='object')"
      ]
     },
     "execution_count": 197,
     "metadata": {},
     "output_type": "execute_result"
    }
   ],
   "source": [
    "df.columns"
   ]
  },
  {
   "cell_type": "code",
   "execution_count": 198,
   "id": "ec3f7019-ed07-446e-8ab5-101c8b5cb7e3",
   "metadata": {},
   "outputs": [
    {
     "data": {
      "text/plain": [
       "(2824004, 2)"
      ]
     },
     "execution_count": 198,
     "metadata": {},
     "output_type": "execute_result"
    }
   ],
   "source": [
    "df.shape"
   ]
  },
  {
   "cell_type": "markdown",
   "id": "5b5dbfcd-43fe-4ab7-abc1-dcbe87802b1d",
   "metadata": {
    "tags": []
   },
   "source": [
    "#### 10.4 SP - Playlist Count"
   ]
  },
  {
   "cell_type": "code",
   "execution_count": 202,
   "id": "a859c352-f323-4085-ba2e-4ee1ec8b37e7",
   "metadata": {},
   "outputs": [
    {
     "data": {
      "text/plain": [
       "'resources/FINAL/SpotifyPlaylists/playlist_count.csv'"
      ]
     },
     "execution_count": 202,
     "metadata": {},
     "output_type": "execute_result"
    }
   ],
   "source": [
    "file = sp_files[3]\n",
    "file"
   ]
  },
  {
   "cell_type": "code",
   "execution_count": 203,
   "id": "f2239c51-92cf-4034-9285-b51e1b48e118",
   "metadata": {},
   "outputs": [
    {
     "data": {
      "text/html": [
       "<div>\n",
       "<style scoped>\n",
       "    .dataframe tbody tr th:only-of-type {\n",
       "        vertical-align: middle;\n",
       "    }\n",
       "\n",
       "    .dataframe tbody tr th {\n",
       "        vertical-align: top;\n",
       "    }\n",
       "\n",
       "    .dataframe thead th {\n",
       "        text-align: right;\n",
       "    }\n",
       "</style>\n",
       "<table border=\"1\" class=\"dataframe\">\n",
       "  <thead>\n",
       "    <tr style=\"text-align: right;\">\n",
       "      <th></th>\n",
       "      <th>playlist</th>\n",
       "      <th>counts</th>\n",
       "    </tr>\n",
       "  </thead>\n",
       "  <tbody>\n",
       "    <tr>\n",
       "      <th>0</th>\n",
       "      <td>HARD ROCK 2010</td>\n",
       "      <td>67</td>\n",
       "    </tr>\n",
       "    <tr>\n",
       "      <th>1</th>\n",
       "      <td>IOW 2012</td>\n",
       "      <td>37</td>\n",
       "    </tr>\n",
       "    <tr>\n",
       "      <th>2</th>\n",
       "      <td>2080</td>\n",
       "      <td>10</td>\n",
       "    </tr>\n",
       "  </tbody>\n",
       "</table>\n",
       "</div>"
      ],
      "text/plain": [
       "         playlist  counts\n",
       "0  HARD ROCK 2010      67\n",
       "1        IOW 2012      37\n",
       "2            2080      10"
      ]
     },
     "execution_count": 203,
     "metadata": {},
     "output_type": "execute_result"
    }
   ],
   "source": [
    "df = pd.read_csv(file)\n",
    "df.head(3)"
   ]
  },
  {
   "cell_type": "code",
   "execution_count": 204,
   "id": "77e54593-7631-4401-b428-092c329a8059",
   "metadata": {
    "tags": []
   },
   "outputs": [
    {
     "data": {
      "text/plain": [
       "Index(['playlist', 'counts'], dtype='object')"
      ]
     },
     "execution_count": 204,
     "metadata": {},
     "output_type": "execute_result"
    }
   ],
   "source": [
    "df.columns"
   ]
  },
  {
   "cell_type": "code",
   "execution_count": 205,
   "id": "964b5d69-eaf8-49b8-8145-20b2e3f7ba99",
   "metadata": {},
   "outputs": [
    {
     "data": {
      "text/plain": [
       "(157537, 2)"
      ]
     },
     "execution_count": 205,
     "metadata": {},
     "output_type": "execute_result"
    }
   ],
   "source": [
    "df.shape\n"
   ]
  },
  {
   "cell_type": "markdown",
   "id": "2d78ab1d-9f01-4c73-9dbb-ae9d733d468a",
   "metadata": {
    "tags": []
   },
   "source": [
    "#### 10.5 SP - Artist Count"
   ]
  },
  {
   "cell_type": "code",
   "execution_count": 206,
   "id": "2f2ac420-1314-4193-b2a3-9228e8f93e4b",
   "metadata": {},
   "outputs": [
    {
     "data": {
      "text/plain": [
       "'resources/FINAL/SpotifyPlaylists/sp_data.csv'"
      ]
     },
     "execution_count": 206,
     "metadata": {},
     "output_type": "execute_result"
    }
   ],
   "source": [
    "file = sp_files[1]\n",
    "file"
   ]
  },
  {
   "cell_type": "code",
   "execution_count": 207,
   "id": "5ccfb04f-2216-4084-85a6-f05f8d4319b8",
   "metadata": {},
   "outputs": [
    {
     "data": {
      "text/html": [
       "<div>\n",
       "<style scoped>\n",
       "    .dataframe tbody tr th:only-of-type {\n",
       "        vertical-align: middle;\n",
       "    }\n",
       "\n",
       "    .dataframe tbody tr th {\n",
       "        vertical-align: top;\n",
       "    }\n",
       "\n",
       "    .dataframe thead th {\n",
       "        text-align: right;\n",
       "    }\n",
       "</style>\n",
       "<table border=\"1\" class=\"dataframe\">\n",
       "  <thead>\n",
       "    <tr style=\"text-align: right;\">\n",
       "      <th></th>\n",
       "      <th>Artist</th>\n",
       "      <th>Track</th>\n",
       "      <th>Playlist</th>\n",
       "      <th>User</th>\n",
       "    </tr>\n",
       "  </thead>\n",
       "  <tbody>\n",
       "    <tr>\n",
       "      <th>0</th>\n",
       "      <td>Elvis Costello</td>\n",
       "      <td>Alison</td>\n",
       "      <td>HARD ROCK 2010</td>\n",
       "      <td>9cc0cfd4d7d7885102480dd99e7a90d6</td>\n",
       "    </tr>\n",
       "    <tr>\n",
       "      <th>1</th>\n",
       "      <td>Crowded House</td>\n",
       "      <td>Don't Dream It's Over</td>\n",
       "      <td>HARD ROCK 2010</td>\n",
       "      <td>9cc0cfd4d7d7885102480dd99e7a90d6</td>\n",
       "    </tr>\n",
       "    <tr>\n",
       "      <th>2</th>\n",
       "      <td>Joshua Radin</td>\n",
       "      <td>Winter</td>\n",
       "      <td>HARD ROCK 2010</td>\n",
       "      <td>9cc0cfd4d7d7885102480dd99e7a90d6</td>\n",
       "    </tr>\n",
       "  </tbody>\n",
       "</table>\n",
       "</div>"
      ],
      "text/plain": [
       "           Artist                  Track        Playlist  \\\n",
       "0  Elvis Costello                 Alison  HARD ROCK 2010   \n",
       "1   Crowded House  Don't Dream It's Over  HARD ROCK 2010   \n",
       "2    Joshua Radin                 Winter  HARD ROCK 2010   \n",
       "\n",
       "                               User  \n",
       "0  9cc0cfd4d7d7885102480dd99e7a90d6  \n",
       "1  9cc0cfd4d7d7885102480dd99e7a90d6  \n",
       "2  9cc0cfd4d7d7885102480dd99e7a90d6  "
      ]
     },
     "execution_count": 207,
     "metadata": {},
     "output_type": "execute_result"
    }
   ],
   "source": [
    "df = pd.read_csv(file)\n",
    "df.head(3)"
   ]
  },
  {
   "cell_type": "code",
   "execution_count": 208,
   "id": "3b696e8f-e8f8-497a-8e30-33d130b9e6f0",
   "metadata": {
    "tags": []
   },
   "outputs": [
    {
     "data": {
      "text/plain": [
       "Index(['Artist', 'Track', 'Playlist', 'User'], dtype='object')"
      ]
     },
     "execution_count": 208,
     "metadata": {},
     "output_type": "execute_result"
    }
   ],
   "source": [
    "df.columns"
   ]
  },
  {
   "cell_type": "code",
   "execution_count": 209,
   "id": "cdc7d7ee-e292-4e42-b6dd-e8dcf8b36a5e",
   "metadata": {},
   "outputs": [
    {
     "data": {
      "text/plain": [
       "(617153, 4)"
      ]
     },
     "execution_count": 209,
     "metadata": {},
     "output_type": "execute_result"
    }
   ],
   "source": [
    "df.shape"
   ]
  },
  {
   "cell_type": "markdown",
   "id": "2b3514b1-f59d-4837-bfbb-9c352baa7500",
   "metadata": {
    "jp-MarkdownHeadingCollapsed": true,
    "tags": []
   },
   "source": [
    "## 11. Twitter\n",
    "\n",
    "This dataset was crawled using the Twitter API for the keywords \"[Artist] - [Track]\", and can be extended easily."
   ]
  },
  {
   "cell_type": "code",
   "execution_count": 214,
   "id": "c4599522-adb5-427d-aa44-5e94736839f9",
   "metadata": {},
   "outputs": [],
   "source": [
    "file = [file for file in files if \"Twitter\" in file][0]"
   ]
  },
  {
   "cell_type": "code",
   "execution_count": 215,
   "id": "a70eb4fc-7abb-4463-8031-f2ec81e11aa1",
   "metadata": {},
   "outputs": [
    {
     "data": {
      "text/html": [
       "<div>\n",
       "<style scoped>\n",
       "    .dataframe tbody tr th:only-of-type {\n",
       "        vertical-align: middle;\n",
       "    }\n",
       "\n",
       "    .dataframe tbody tr th {\n",
       "        vertical-align: top;\n",
       "    }\n",
       "\n",
       "    .dataframe thead th {\n",
       "        text-align: right;\n",
       "    }\n",
       "</style>\n",
       "<table border=\"1\" class=\"dataframe\">\n",
       "  <thead>\n",
       "    <tr style=\"text-align: right;\">\n",
       "      <th></th>\n",
       "      <th>text</th>\n",
       "      <th>id_str</th>\n",
       "      <th>location</th>\n",
       "      <th>utc_offset</th>\n",
       "      <th>followers_count</th>\n",
       "      <th>friends_count</th>\n",
       "      <th>verified</th>\n",
       "      <th>statuses_count</th>\n",
       "      <th>geo</th>\n",
       "      <th>coordinates</th>\n",
       "      <th>place</th>\n",
       "      <th>i</th>\n",
       "    </tr>\n",
       "  </thead>\n",
       "  <tbody>\n",
       "    <tr>\n",
       "      <th>0</th>\n",
       "      <td>@LabradorYuki 10 Years\\n\\n10 Years - Wasteland...</td>\n",
       "      <td>1460474131</td>\n",
       "      <td>United States</td>\n",
       "      <td>NaN</td>\n",
       "      <td>518</td>\n",
       "      <td>1833</td>\n",
       "      <td>False</td>\n",
       "      <td>26217</td>\n",
       "      <td>NaN</td>\n",
       "      <td>NaN</td>\n",
       "      <td>NaN</td>\n",
       "      <td>0</td>\n",
       "    </tr>\n",
       "    <tr>\n",
       "      <th>1</th>\n",
       "      <td>@CrootMatt I couldn’t agree more mate, his ten...</td>\n",
       "      <td>20863217</td>\n",
       "      <td>Bristol</td>\n",
       "      <td>NaN</td>\n",
       "      <td>431</td>\n",
       "      <td>545</td>\n",
       "      <td>False</td>\n",
       "      <td>6931</td>\n",
       "      <td>NaN</td>\n",
       "      <td>NaN</td>\n",
       "      <td>NaN</td>\n",
       "      <td>0</td>\n",
       "    </tr>\n",
       "    <tr>\n",
       "      <th>2</th>\n",
       "      <td>@SpotifyMexico Wasteland - 10 years. Hasta aho...</td>\n",
       "      <td>1037216346977828864</td>\n",
       "      <td>Ciudad de México</td>\n",
       "      <td>NaN</td>\n",
       "      <td>34</td>\n",
       "      <td>268</td>\n",
       "      <td>False</td>\n",
       "      <td>139</td>\n",
       "      <td>NaN</td>\n",
       "      <td>NaN</td>\n",
       "      <td>NaN</td>\n",
       "      <td>0</td>\n",
       "    </tr>\n",
       "  </tbody>\n",
       "</table>\n",
       "</div>"
      ],
      "text/plain": [
       "                                                text               id_str  \\\n",
       "0  @LabradorYuki 10 Years\\n\\n10 Years - Wasteland...           1460474131   \n",
       "1  @CrootMatt I couldn’t agree more mate, his ten...             20863217   \n",
       "2  @SpotifyMexico Wasteland - 10 years. Hasta aho...  1037216346977828864   \n",
       "\n",
       "            location  utc_offset  followers_count  friends_count  verified  \\\n",
       "0      United States         NaN              518           1833     False   \n",
       "1            Bristol         NaN              431            545     False   \n",
       "2  Ciudad de México          NaN               34            268     False   \n",
       "\n",
       "   statuses_count  geo coordinates place  i  \n",
       "0           26217  NaN         NaN   NaN  0  \n",
       "1            6931  NaN         NaN   NaN  0  \n",
       "2             139  NaN         NaN   NaN  0  "
      ]
     },
     "execution_count": 215,
     "metadata": {},
     "output_type": "execute_result"
    }
   ],
   "source": [
    "tweets = pd.read_csv(file, lineterminator='\\n')\n",
    "tweets.head(3)"
   ]
  },
  {
   "cell_type": "code",
   "execution_count": 216,
   "id": "bce9418e-b57a-4ac7-a199-86a9ffee7a20",
   "metadata": {},
   "outputs": [
    {
     "data": {
      "text/plain": [
       "Index(['text', 'id_str', 'location', 'utc_offset', 'followers_count',\n",
       "       'friends_count', 'verified', 'statuses_count', 'geo', 'coordinates',\n",
       "       'place', 'i'],\n",
       "      dtype='object')"
      ]
     },
     "execution_count": 216,
     "metadata": {},
     "output_type": "execute_result"
    }
   ],
   "source": [
    "tweets.columns"
   ]
  },
  {
   "cell_type": "code",
   "execution_count": 217,
   "id": "7699d6cc-b10f-4ca8-856f-4e37d9fcc9e2",
   "metadata": {},
   "outputs": [
    {
     "data": {
      "text/plain": [
       "(205423, 12)"
      ]
     },
     "execution_count": 217,
     "metadata": {},
     "output_type": "execute_result"
    }
   ],
   "source": [
    "tweets.shape"
   ]
  },
  {
   "cell_type": "markdown",
   "id": "94418571-c366-4f43-a127-1b52996b9ba2",
   "metadata": {},
   "source": [
    "## 12. Youtube - [yet to be included...]"
   ]
  },
  {
   "cell_type": "markdown",
   "id": "ccc794ba-3853-42ae-bcb2-fad20e9b3b3c",
   "metadata": {},
   "source": [
    "# Current situation and next steps...."
   ]
  },
  {
   "cell_type": "markdown",
   "id": "7c424273-9985-4149-931c-818c34efa8a5",
   "metadata": {},
   "source": [
    "As seen above, the datasets are already selected and filtered according to the intersection, such that there are no unnecessary samples in the sets. They are also all at a size that is manageable on a normal computer.\n",
    "The next steps that are necessary are the following:\n",
    "\n",
    "1. Most of the data is still in a raw format and hard to make use of. It is required to do some feature extraction such that it can be more easily used. This includes:\n",
    " - Creating feature vectors for text, such as BoW's\n",
    " - Extract emotional content from text using existing libraries\n",
    " - Extract meaningful information from data such as from dates: this could be the day of the week, the time of day for the user, etc..\n",
    " - Calculate similarity measurements for tracks using playlists and other...\n",
    " - In general, there are many features that can be extracted as in the principle of transfer learning and feature engineering.\n",
    " \n",
    " \n",
    "\n",
    "2. Data Exploration: make statistical descriptions of each variable and combinations of variables.\n",
    "\n",
    "3. Find out more features that can be added that are currently missing but can be useful.\n",
    "    \n",
    "4. Define the emotional model based on the existing information\n",
    "\n",
    "5.  Develop the testing metrics\n",
    "\n",
    "6. Combine the datasets such that they are usable for the algorithms to be tested. \n",
    "\n",
    "7.  Develop the relevant algorithms:\n",
    " - Test common regressors for the inference of missing values\n",
    " - An autoencoder that can fill in the missing values of a feature vector.\n",
    " - Employment of graph-based semi-supervised learning (GSSL) algorithms"
   ]
  }
 ],
 "metadata": {
  "kernelspec": {
   "display_name": "Python 3 (ipykernel)",
   "language": "python",
   "name": "python3"
  },
  "language_info": {
   "codemirror_mode": {
    "name": "ipython",
    "version": 3
   },
   "file_extension": ".py",
   "mimetype": "text/x-python",
   "name": "python",
   "nbconvert_exporter": "python",
   "pygments_lexer": "ipython3",
   "version": "3.10.6"
  }
 },
 "nbformat": 4,
 "nbformat_minor": 5
}
